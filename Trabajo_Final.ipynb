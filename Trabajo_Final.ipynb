{
 "cells": [
  {
   "cell_type": "code",
   "execution_count": 1,
   "metadata": {},
   "outputs": [],
   "source": [
    "import pandas as pd\n",
    "from sklearn.svm import SVC\n",
    "import plotly.express as px\n",
    "from sklearn.preprocessing import StandardScaler\n",
    "from sklearn.metrics import classification_report, f1_score\n",
    "import numpy as np\n",
    "from sklearn.metrics.pairwise import pairwise_kernels as pk"
   ]
  },
  {
   "cell_type": "code",
   "execution_count": 2,
   "metadata": {},
   "outputs": [],
   "source": [
    "# Kernells definition\n",
    "def linearKernell(X,Y):\n",
    "    return pk(X,Y,metric='linear')\n",
    "\n",
    "def gaussianKernel(X, Y):\n",
    "    return pk(X,Y,metric='rbf')\n",
    "\n",
    "def LaplaceKernel(X, Y):\n",
    "    return pk(X,Y,metric='laplacian')\n",
    "\n",
    "def tanhKernel(X, Y): \n",
    "    return pk(X,Y,metric='sigmoid')\n",
    "\n",
    "def polynomial_kernel(X, Y):\n",
    "    return pk(X,Y,metric='polynomial')\n",
    "\n",
    "def cosine_kernel(X, Y):\n",
    "    return pk(X,Y,metric='cosine')"
   ]
  },
  {
   "cell_type": "code",
   "execution_count": 3,
   "metadata": {},
   "outputs": [],
   "source": [
    "def CrearTablaFrec(Datos,bins):\n",
    "    frec=[]\n",
    "    dataCol = pd.cut(Datos,bins=bins)\n",
    "    for i in range(len(np.unique(dataCol))):\n",
    "        frec.append(len(np.where(dataCol==np.unique(dataCol)[i])[0]))\n",
    "        frecacum=np.cumsum(frec)\n",
    "    TF=pd.DataFrame(np.transpose([np.unique(dataCol),frec,frecacum,frecacum/sum(frec)]),columns=['Intervalos','Frecuencias','frecuencias Acumuladas','Frecuencias Relativas'])\n",
    "    return TF,dataCol"
   ]
  },
  {
   "cell_type": "code",
   "execution_count": 4,
   "metadata": {},
   "outputs": [],
   "source": [
    "def datasim(data,bins,sim):\n",
    "    from tqdm import tqdm\n",
    "    empT=[]\n",
    "    for j in tqdm(range(data.shape[1])): \n",
    "        emp=[]   \n",
    "        for i in data.iloc[:,j]:\n",
    "            emp.append(np.sum(data.iloc[:,j]<=i)/len(data.iloc[:,j]))\n",
    "        empT.append(emp)\n",
    "    TablasFrec=[]\n",
    "    DataInt=[]\n",
    "    for i in tqdm(range(data.shape[1])):\n",
    "        T,D=CrearTablaFrec(data.iloc[:,i],bins)\n",
    "        TablasFrec.append(T)\n",
    "        DataInt.append(D)\n",
    "    DataInt=np.transpose(np.array(DataInt))\n",
    "    XT=[]\n",
    "    for i in tqdm(range(sim)):\n",
    "        X=[]\n",
    "        PosSim=int(np.random.uniform(0,len(data)-1))\n",
    "        for i in range(data.shape[1]):\n",
    "            inter=TablasFrec[i][TablasFrec[i]['Frecuencias Relativas']>=np.transpose(np.array(empT))[PosSim][i]].reset_index()['Intervalos'][0]\n",
    "            X.append(np.random.uniform(low=inter.left, high=inter.right))\n",
    "        XT.append(X)\n",
    "    return XT"
   ]
  },
  {
   "cell_type": "code",
   "execution_count": 5,
   "metadata": {},
   "outputs": [],
   "source": [
    "# df = pd.read_csv(\"Bajo peso al nacer.csv\",sep=';')\n",
    "# df = df.dropna()\n",
    "# df = df[df['peso_nacer']!='SD']\n",
    "# df['peso_nacer']=pd.to_numeric(df['peso_nacer'])\n",
    "# df['talla_nacer']=df['talla_nacer'].apply(lambda x: float(x.replace(',','.')))\n",
    "# df['pac_hos_']=(df['pac_hos_']-2)*(-1)"
   ]
  },
  {
   "cell_type": "code",
   "execution_count": 6,
   "metadata": {},
   "outputs": [],
   "source": [
    "# #splitting the dataset into independent and dependent datasets\n",
    "# X = df.drop(['pac_hos_'],axis=1).values\n",
    "# X[:,6]=pd.to_numeric(X[:,6])\n",
    "# Y = np.array(df['pac_hos_'])"
   ]
  },
  {
   "cell_type": "code",
   "execution_count": 7,
   "metadata": {},
   "outputs": [],
   "source": [
    "df = pd.read_csv(\"gender_classification_v7.csv\",sep=',')"
   ]
  },
  {
   "cell_type": "code",
   "execution_count": 8,
   "metadata": {},
   "outputs": [],
   "source": [
    "#splitting the dataset into independent and dependent datasets\n",
    "X = df.iloc[:,:-1].values\n",
    "Y = df.loc[:,'gender'].values\n",
    "Y[Y=='Male']=1\n",
    "Y[Y=='Female']=0\n",
    "Y=Y.astype('int')"
   ]
  },
  {
   "cell_type": "code",
   "execution_count": 9,
   "metadata": {},
   "outputs": [
    {
     "data": {
      "text/plain": [
       "(2500, 2501)"
      ]
     },
     "execution_count": 9,
     "metadata": {},
     "output_type": "execute_result"
    }
   ],
   "source": [
    "len(Y[Y==1]),len(Y[Y==0])"
   ]
  },
  {
   "cell_type": "code",
   "execution_count": 10,
   "metadata": {},
   "outputs": [],
   "source": [
    "#splitting the dataset into training(75%) and testing(25%)\n",
    "from sklearn.model_selection import train_test_split\n",
    "X_train, X_test,Y_train, Y_test = train_test_split(X,Y,test_size=0.25)"
   ]
  },
  {
   "cell_type": "code",
   "execution_count": 11,
   "metadata": {},
   "outputs": [],
   "source": [
    "#Scaling the data(feature scaling)\n",
    "sc = StandardScaler()\n",
    "X_train = sc.fit_transform(X_train)\n",
    "X_test = sc.fit_transform(X_test)"
   ]
  },
  {
   "cell_type": "code",
   "execution_count": 12,
   "metadata": {},
   "outputs": [],
   "source": [
    "def kernel_bootstrap(X, y, kernells_fun, nb=100):\n",
    "    from tqdm import tqdm\n",
    "    F1 = np.zeros([nb, len(kernells_fun)])\n",
    "    for i in tqdm(range(nb)):\n",
    "\n",
    "        idx = np.array(list(np.random.choice(np.where(y==1)[0], 250, replace=True)) + list(np.random.choice(np.where(y==0)[0], 250, replace=True)))\n",
    "    \n",
    "        X_sample = X[idx]\n",
    "        y_sample = y[idx]\n",
    "        X_train, X_test, Y_train, Y_test = train_test_split(X_sample,y_sample,test_size=0.25)\n",
    "\n",
    "        sc = StandardScaler()\n",
    "        X_train = sc.fit_transform(X_train)\n",
    "        X_test = sc.fit_transform(X_test)\n",
    "\n",
    "        for j, kernell in enumerate(kernells_fun):\n",
    "            clf = SVC(kernel=kernell)\n",
    "            clf.fit(X_train, Y_train)\n",
    "            y_pred = clf.predict(X_test)\n",
    "            F1[i, j]= (f1_score(Y_test, y_pred))   \n",
    "    return F1"
   ]
  },
  {
   "cell_type": "code",
   "execution_count": 13,
   "metadata": {},
   "outputs": [
    {
     "name": "stderr",
     "output_type": "stream",
     "text": [
      "100%|██████████| 1000/1000 [01:04<00:00, 15.54it/s]\n"
     ]
    }
   ],
   "source": [
    "kernells_fun=[gaussianKernel,LaplaceKernel,tanhKernel,polynomial_kernel,cosine_kernel]\n",
    "F1=kernel_bootstrap(X,Y,kernells_fun,1000)"
   ]
  },
  {
   "cell_type": "code",
   "execution_count": 14,
   "metadata": {},
   "outputs": [],
   "source": [
    "F1_median = (np.median(F1, axis=0))/(np.sum(np.median(F1, axis=0)))\n",
    "pond=[]\n",
    "for i in range(len(F1_median)):\n",
    "    if np.logical_or(np.where(np.sort(F1_median)==F1_median[i])[0]==len(F1_median)-1,np.where(np.sort(F1_median)==F1_median[i])[0]==len(F1_median)-2):\n",
    "        pond.append(i)\n",
    "        \n",
    "# F1_median=F1_median/np.sum(F1_median)"
   ]
  },
  {
   "cell_type": "code",
   "execution_count": 26,
   "metadata": {},
   "outputs": [
    {
     "data": {
      "text/plain": [
       "array([0.5, 0.5, 0. , 0. , 0. ])"
      ]
     },
     "execution_count": 26,
     "metadata": {},
     "output_type": "execute_result"
    }
   ],
   "source": [
    "kern=np.zeros(len(F1_median))\n",
    "kern[pond]=0.5\n",
    "kern"
   ]
  },
  {
   "cell_type": "code",
   "execution_count": 27,
   "metadata": {},
   "outputs": [],
   "source": [
    "F1_median=kern"
   ]
  },
  {
   "cell_type": "code",
   "execution_count": 28,
   "metadata": {},
   "outputs": [],
   "source": [
    "def combined(X,Y):\n",
    "    com = F1_median[3]*polynomial_kernel(X, Y)+F1_median[0]*gaussianKernel(X,Y) + F1_median[1] * LaplaceKernel(X, Y) +  F1_median[2] * tanhKernel(X, Y) + F1_median[4]*cosine_kernel(X, Y)\n",
    "    return com"
   ]
  },
  {
   "cell_type": "code",
   "execution_count": 29,
   "metadata": {},
   "outputs": [
    {
     "data": {
      "text/plain": [
       "array([0.5, 0.5, 0. , 0. , 0. ])"
      ]
     },
     "execution_count": 29,
     "metadata": {},
     "output_type": "execute_result"
    }
   ],
   "source": [
    "F1_median"
   ]
  },
  {
   "cell_type": "code",
   "execution_count": 30,
   "metadata": {},
   "outputs": [
    {
     "name": "stdout",
     "output_type": "stream",
     "text": [
      "              precision    recall  f1-score   support\n",
      "\n",
      "           0       0.96      0.98      0.97       650\n",
      "           1       0.98      0.96      0.97       601\n",
      "\n",
      "    accuracy                           0.97      1251\n",
      "   macro avg       0.97      0.97      0.97      1251\n",
      "weighted avg       0.97      0.97      0.97      1251\n",
      " 0.9689336691855585\n"
     ]
    }
   ],
   "source": [
    "clf = SVC(kernel=combined)\n",
    "clf.fit(X_train, Y_train)\n",
    "y_pred = clf.predict(X_test)\n",
    "print(classification_report(Y_test, y_pred),f1_score(Y_test, y_pred))"
   ]
  },
  {
   "cell_type": "code",
   "execution_count": 31,
   "metadata": {},
   "outputs": [],
   "source": [
    "clf = SVC(kernel=gaussianKernel)\n",
    "clf.fit(X_train, Y_train)\n",
    "y_pred = clf.predict(X_test)\n",
    "print(classification_report(Y_test, y_pred),f1_score(Y_test, y_pred))"
   ]
  },
  {
   "cell_type": "code",
   "execution_count": null,
   "metadata": {},
   "outputs": [
    {
     "name": "stdout",
     "output_type": "stream",
     "text": [
      "              precision    recall  f1-score   support\n",
      "\n",
      "           0       0.96      0.98      0.97       650\n",
      "           1       0.98      0.96      0.97       601\n",
      "\n",
      "    accuracy                           0.97      1251\n",
      "   macro avg       0.97      0.97      0.97      1251\n",
      "weighted avg       0.97      0.97      0.97      1251\n",
      " 0.9680672268907563\n"
     ]
    }
   ],
   "source": [
    "clf = SVC(kernel=LaplaceKernel)\n",
    "clf.fit(X_train, Y_train)\n",
    "y_pred = clf.predict(X_test)\n",
    "print(classification_report(Y_test, y_pred),f1_score(Y_test, y_pred))"
   ]
  },
  {
   "cell_type": "code",
   "execution_count": 17,
   "metadata": {},
   "outputs": [
    {
     "name": "stderr",
     "output_type": "stream",
     "text": [
      "100%|██████████| 8/8 [01:33<00:00, 11.70s/it]\n",
      "100%|██████████| 8/8 [00:10<00:00,  1.35s/it]\n",
      "100%|██████████| 1000/1000 [01:07<00:00, 14.76it/s]\n",
      "100%|██████████| 8/8 [00:23<00:00,  2.96s/it]\n",
      "100%|██████████| 8/8 [00:05<00:00,  1.37it/s]\n",
      "100%|██████████| 1000/1000 [00:48<00:00, 20.65it/s]\n"
     ]
    }
   ],
   "source": [
    "X1_sim=datasim(pd.DataFrame(X[Y==1]),50,1000)\n",
    "X0_sim=datasim(pd.DataFrame(X[Y==0]),50,1000)"
   ]
  },
  {
   "cell_type": "code",
   "execution_count": 42,
   "metadata": {},
   "outputs": [],
   "source": [
    "sc = StandardScaler()\n",
    "X1_test = sc.fit_transform(X1_sim)\n",
    "X0_test = sc.fit_transform(X0_sim)"
   ]
  },
  {
   "cell_type": "code",
   "execution_count": 43,
   "metadata": {},
   "outputs": [
    {
     "data": {
      "text/plain": [
       "0.6867167919799498"
      ]
     },
     "execution_count": 43,
     "metadata": {},
     "output_type": "execute_result"
    }
   ],
   "source": [
    "y_pred = clf.predict(np.vstack((X0_test,X1_test)))\n",
    "f1_score(np.hstack((np.zeros(len(X0_test)),np.ones(len(X1_test)))), y_pred)"
   ]
  },
  {
   "cell_type": "code",
   "execution_count": 44,
   "metadata": {},
   "outputs": [
    {
     "name": "stdout",
     "output_type": "stream",
     "text": [
      "              precision    recall  f1-score   support\n",
      "\n",
      "         0.0       0.80      0.17      0.28      1000\n",
      "         1.0       0.53      0.96      0.69      1000\n",
      "\n",
      "    accuracy                           0.56      2000\n",
      "   macro avg       0.67      0.56      0.48      2000\n",
      "weighted avg       0.67      0.56      0.48      2000\n",
      "\n"
     ]
    }
   ],
   "source": [
    "y_pred = clf.predict(np.vstack((X0_test,X1_test)))\n",
    "print(classification_report(np.hstack((np.zeros(len(X0_test)),np.ones(len(X1_test)))), y_pred))\n",
    "# f1_score(np.zeros(len(y_pred)), y_pred)"
   ]
  },
  {
   "cell_type": "code",
   "execution_count": 46,
   "metadata": {},
   "outputs": [
    {
     "name": "stdout",
     "output_type": "stream",
     "text": [
      "              precision    recall  f1-score   support\n",
      "\n",
      "         0.0       0.83      0.18      0.30      1000\n",
      "         1.0       0.54      0.96      0.69      1000\n",
      "\n",
      "    accuracy                           0.57      2000\n",
      "   macro avg       0.68      0.57      0.50      2000\n",
      "weighted avg       0.68      0.57      0.50      2000\n",
      "\n"
     ]
    }
   ],
   "source": [
    "clf = SVC(kernel=gaussianKernel)\n",
    "clf.fit(X_train, Y_train)\n",
    "y_pred = clf.predict(np.vstack((X0_test,X1_test)))\n",
    "print(classification_report(np.hstack((np.zeros(len(X0_test)),np.ones(len(X1_test)))), y_pred))\n",
    "# f1_score(np.hstack((np.zeros(len(X0_test)),np.ones(len(X1_test)))), y_pred)"
   ]
  },
  {
   "cell_type": "code",
   "execution_count": null,
   "metadata": {},
   "outputs": [],
   "source": []
  },
  {
   "cell_type": "code",
   "execution_count": null,
   "metadata": {},
   "outputs": [],
   "source": []
  },
  {
   "cell_type": "code",
   "execution_count": 50,
   "metadata": {},
   "outputs": [],
   "source": [
    "Xprueba=np.vstack((np.array(X1_sim),np.array(X0_sim)))\n",
    "Yprueba=np.vstack((np.ones(len(X1_sim)).reshape(len(X1_sim),1),np.zeros(len(X0_sim)).reshape(len(X0_sim),1)))"
   ]
  },
  {
   "cell_type": "code",
   "execution_count": 53,
   "metadata": {},
   "outputs": [],
   "source": [
    "#splitting the dataset into training(75%) and testing(25%)\n",
    "from sklearn.model_selection import train_test_split\n",
    "X_train, X_test,Y_train, Y_test = train_test_split(Xprueba,Yprueba,test_size=0.25)\n",
    "#Scaling the data(feature scaling)\n",
    "sc = StandardScaler()\n",
    "X_train = sc.fit_transform(X_train)\n",
    "X_test = sc.fit_transform(X_test)\n",
    "X_test_or= sc.fit_transform(X)"
   ]
  },
  {
   "cell_type": "code",
   "execution_count": 56,
   "metadata": {},
   "outputs": [
    {
     "name": "stdout",
     "output_type": "stream",
     "text": [
      "              precision    recall  f1-score   support\n",
      "\n",
      "         0.0       0.52      0.52      0.52        25\n",
      "         1.0       0.52      0.52      0.52        25\n",
      "\n",
      "    accuracy                           0.52        50\n",
      "   macro avg       0.52      0.52      0.52        50\n",
      "weighted avg       0.52      0.52      0.52        50\n",
      "\n"
     ]
    },
    {
     "name": "stderr",
     "output_type": "stream",
     "text": [
      "c:\\Users\\gomezcb\\AppData\\Local\\Programs\\Python\\Python39\\lib\\site-packages\\sklearn\\svm\\_base.py:734: DataConversionWarning: A column-vector y was passed when a 1d array was expected. Please change the shape of y to (n_samples, ), for example using ravel().\n",
      "  y_ = column_or_1d(y, warn=True)\n"
     ]
    }
   ],
   "source": [
    "clf = SVC(kernel=combined)\n",
    "clf.fit(X_train, Y_train)\n",
    "y_pred = clf.predict(X_test)\n",
    "print(classification_report(Y_test, y_pred))"
   ]
  },
  {
   "cell_type": "code",
   "execution_count": null,
   "metadata": {},
   "outputs": [],
   "source": []
  },
  {
   "cell_type": "code",
   "execution_count": null,
   "metadata": {},
   "outputs": [],
   "source": []
  },
  {
   "cell_type": "code",
   "execution_count": null,
   "metadata": {},
   "outputs": [],
   "source": []
  },
  {
   "cell_type": "code",
   "execution_count": null,
   "metadata": {},
   "outputs": [],
   "source": []
  },
  {
   "cell_type": "code",
   "execution_count": null,
   "metadata": {},
   "outputs": [],
   "source": []
  },
  {
   "cell_type": "code",
   "execution_count": null,
   "metadata": {},
   "outputs": [],
   "source": []
  },
  {
   "cell_type": "code",
   "execution_count": null,
   "metadata": {},
   "outputs": [],
   "source": []
  },
  {
   "cell_type": "code",
   "execution_count": null,
   "metadata": {},
   "outputs": [],
   "source": []
  },
  {
   "cell_type": "code",
   "execution_count": null,
   "metadata": {},
   "outputs": [],
   "source": []
  },
  {
   "cell_type": "markdown",
   "metadata": {},
   "source": [
    "Kernel lineal"
   ]
  },
  {
   "cell_type": "code",
   "execution_count": null,
   "metadata": {},
   "outputs": [
    {
     "name": "stdout",
     "output_type": "stream",
     "text": [
      "              precision    recall  f1-score   support\n",
      "\n",
      "           0       1.00      0.00      0.00       818\n",
      "           1       0.64      1.00      0.78      1456\n",
      "\n",
      "    accuracy                           0.64      2274\n",
      "   macro avg       0.82      0.50      0.39      2274\n",
      "weighted avg       0.77      0.64      0.50      2274\n",
      "\n",
      "              precision    recall  f1-score   support\n",
      "\n",
      "           0       0.63      0.27      0.38       818\n",
      "           1       0.69      0.91      0.78      1456\n",
      "\n",
      "    accuracy                           0.68      2274\n",
      "   macro avg       0.66      0.59      0.58      2274\n",
      "weighted avg       0.67      0.68      0.64      2274\n",
      "\n",
      "              precision    recall  f1-score   support\n",
      "\n",
      "           0       0.64      0.35      0.45       818\n",
      "           1       0.71      0.89      0.79      1456\n",
      "\n",
      "    accuracy                           0.70      2274\n",
      "   macro avg       0.67      0.62      0.62      2274\n",
      "weighted avg       0.68      0.70      0.67      2274\n",
      "\n",
      "              precision    recall  f1-score   support\n",
      "\n",
      "           0       0.29      0.29      0.29       818\n",
      "           1       0.60      0.60      0.60      1456\n",
      "\n",
      "    accuracy                           0.49      2274\n",
      "   macro avg       0.45      0.45      0.45      2274\n",
      "weighted avg       0.49      0.49      0.49      2274\n",
      "\n",
      "              precision    recall  f1-score   support\n",
      "\n",
      "           0       0.67      0.23      0.35       818\n",
      "           1       0.68      0.94      0.79      1456\n",
      "\n",
      "    accuracy                           0.68      2274\n",
      "   macro avg       0.68      0.58      0.57      2274\n",
      "weighted avg       0.68      0.68      0.63      2274\n",
      "\n",
      "              precision    recall  f1-score   support\n",
      "\n",
      "           0       1.00      0.00      0.00       818\n",
      "           1       0.64      1.00      0.78      1456\n",
      "\n",
      "    accuracy                           0.64      2274\n",
      "   macro avg       0.82      0.50      0.39      2274\n",
      "weighted avg       0.77      0.64      0.50      2274\n",
      "\n"
     ]
    }
   ],
   "source": [
    "F1=[]\n",
    "\n",
    "kernells_fun=[linearKernell,gaussianKernel,LaplaceKernel,tanhKernel,polynomial_kernel,cosine_kernel]\n",
    "\n",
    "for kernell in kernells_fun:\n",
    "    clf = SVC(kernel=kernell)\n",
    "    clf.fit(X_train, Y_train)\n",
    "    y_pred = clf.predict(X_test)\n",
    "    print(classification_report(Y_test, y_pred))\n",
    "    F1.append(f1_score(Y_test, y_pred))"
   ]
  },
  {
   "cell_type": "code",
   "execution_count": null,
   "metadata": {},
   "outputs": [
    {
     "data": {
      "text/plain": [
       "array([0.17265485, 0.17337196, 0.1743782 , 0.13216438, 0.17477576,\n",
       "       0.17265485])"
      ]
     },
     "execution_count": 15,
     "metadata": {},
     "output_type": "execute_result"
    }
   ],
   "source": [
    "Ponderaciones=F1/sum(F1)\n",
    "Ponderaciones"
   ]
  },
  {
   "cell_type": "code",
   "execution_count": null,
   "metadata": {},
   "outputs": [],
   "source": [
    "def combined(X,Y):\n",
    "    com = Ponderaciones[0]*linearKernell(X,Y) + Ponderaciones[1]*gaussianKernel(X,Y) \n",
    "    + Ponderaciones[2]*LaplaceKernel(X, Y) + Ponderaciones[3]*tanhKernel(X, Y)\n",
    "    + Ponderaciones[4]*polynomial_kernel(X, Y)+ Ponderaciones[5]*cosine_kernel(X, Y)\n",
    "    return com"
   ]
  },
  {
   "cell_type": "code",
   "execution_count": null,
   "metadata": {},
   "outputs": [
    {
     "name": "stdout",
     "output_type": "stream",
     "text": [
      "              precision    recall  f1-score   support\n",
      "\n",
      "           0       0.67      0.24      0.35       818\n",
      "           1       0.69      0.94      0.79      1456\n",
      "\n",
      "    accuracy                           0.68      2274\n",
      "   macro avg       0.68      0.59      0.57      2274\n",
      "weighted avg       0.68      0.68      0.63      2274\n",
      "\n"
     ]
    }
   ],
   "source": [
    "clf = SVC(kernel=combined)\n",
    "clf.fit(X_train, Y_train)\n",
    "y_pred = clf.predict(X_test)\n",
    "print(classification_report(Y_test, y_pred))"
   ]
  },
  {
   "cell_type": "code",
   "execution_count": null,
   "metadata": {},
   "outputs": [],
   "source": [
    "def kernel_bootstrap(X, y, kernells_fun, nb=100):\n",
    "    from tqdm import tqdm\n",
    "    F1 = np.zeros([nb, len(kernells_fun)])\n",
    "    for i in tqdm(range(nb)):\n",
    "\n",
    "        idx = np.array(list(np.random.choice(np.where(y==1)[0], 250, replace=True)) + list(np.random.choice(np.where(y==0)[0], 250, replace=True)))\n",
    "\n",
    "        X_sample = X[idx]\n",
    "        y_sample = y[idx]\n",
    "        X_train, X_test, Y_train, Y_test = train_test_split(X_sample,y_sample,test_size=0.25)\n",
    "\n",
    "        # clf = SVC(kernel=kernells_fun[0])\n",
    "        # clf.fit(X_train, Y_train)\n",
    "        # y_pred = clf.predict(X_test)\n",
    "        # F1[i, 0]= (f1_score(Y_test, y_pred))\n",
    "\n",
    "        # clf = SVC(kernel=kernells_fun[1])\n",
    "        # clf.fit(X_train, Y_train)\n",
    "        # y_pred = clf.predict(X_test)\n",
    "        # F1[i, 1]= (f1_score(Y_test, y_pred))\n",
    "\n",
    "        # clf = SVC(kernel=kernells_fun[2])\n",
    "        # clf.fit(X_train, Y_train)\n",
    "        # y_pred = clf.predict(X_test)\n",
    "        # F1[i, 2]= (f1_score(Y_test, y_pred))\n",
    "\n",
    "        # clf = SVC(kernel=kernells_fun[3])\n",
    "        # clf.fit(X_train, Y_train)\n",
    "        # y_pred = clf.predict(X_test)\n",
    "        # F1[i, 3]= (f1_score(Y_test, y_pred))\n",
    "\n",
    "        clf = SVC(kernel=kernells_fun[4])\n",
    "        clf.fit(X_train, Y_train)\n",
    "        y_pred = clf.predict(X_test)\n",
    "        F1[i, 4]= (f1_score(Y_test, y_pred))\n",
    "\n",
    "        clf = SVC(kernel=kernells_fun[5])\n",
    "        clf.fit(X_train, Y_train)\n",
    "        y_pred = clf.predict(X_test)\n",
    "        F1[i, 5]= (f1_score(Y_test, y_pred))\n",
    "\n",
    "        # for j, kernell in tqdm(enumerate(kernells_fun)):\n",
    "        #     clf = SVC(kernel=kernell)\n",
    "        #     clf.fit(X_train, Y_train)\n",
    "        #     y_pred = clf.predict(X_test)\n",
    "        #     F1[i, j]= (f1_score(Y_test, y_pred))   \n",
    "    return F1"
   ]
  },
  {
   "cell_type": "code",
   "execution_count": null,
   "metadata": {},
   "outputs": [
    {
     "name": "stderr",
     "output_type": "stream",
     "text": [
      "  0%|          | 0/10 [00:00<?, ?it/s]"
     ]
    }
   ],
   "source": [
    "kernells_fun=[linearKernell,gaussianKernel,LaplaceKernel,tanhKernel,polynomial_kernel,cosine_kernel]\n",
    "kernel_bootstrap(X,Y,kernells_fun,10)"
   ]
  },
  {
   "cell_type": "code",
   "execution_count": null,
   "metadata": {},
   "outputs": [],
   "source": []
  },
  {
   "cell_type": "code",
   "execution_count": null,
   "metadata": {},
   "outputs": [],
   "source": []
  },
  {
   "cell_type": "code",
   "execution_count": 15,
   "metadata": {},
   "outputs": [
    {
     "name": "stdout",
     "output_type": "stream",
     "text": [
      "              precision    recall  f1-score   support\n",
      "\n",
      "           0       1.00      0.01      0.01       769\n",
      "           1       0.66      1.00      0.80      1505\n",
      "\n",
      "    accuracy                           0.66      2274\n",
      "   macro avg       0.83      0.50      0.40      2274\n",
      "weighted avg       0.78      0.66      0.53      2274\n",
      "\n"
     ]
    }
   ],
   "source": [
    "F1=[]\n",
    "clf = SVC(kernel=\"linear\")\n",
    "clf.fit(X_train, Y_train)\n",
    "y_pred = clf.predict(X_test)\n",
    "print(classification_report(Y_test, y_pred))\n",
    "F1.append(f1_score(Y_test, y_pred))"
   ]
  },
  {
   "cell_type": "markdown",
   "metadata": {},
   "source": [
    "Kernel custom"
   ]
  },
  {
   "cell_type": "code",
   "execution_count": 16,
   "metadata": {},
   "outputs": [],
   "source": [
    "from sklearn.gaussian_process.kernels import ConstantKernel, RBF"
   ]
  },
  {
   "cell_type": "code",
   "execution_count": 17,
   "metadata": {},
   "outputs": [
    {
     "name": "stdout",
     "output_type": "stream",
     "text": [
      "              precision    recall  f1-score   support\n",
      "\n",
      "           0       0.63      0.29      0.40       769\n",
      "           1       0.72      0.91      0.80      1505\n",
      "\n",
      "    accuracy                           0.70      2274\n",
      "   macro avg       0.67      0.60      0.60      2274\n",
      "weighted avg       0.69      0.70      0.67      2274\n",
      "\n"
     ]
    }
   ],
   "source": [
    "clf_custom = SVC(kernel='rbf')\n",
    "clf_custom.fit(X_train, Y_train)\n",
    "y_pred = clf_custom.predict(X_test)\n",
    "print(classification_report(Y_test, y_pred))\n",
    "F1.append(f1_score(Y_test, y_pred))"
   ]
  },
  {
   "cell_type": "code",
   "execution_count": 18,
   "metadata": {},
   "outputs": [
    {
     "name": "stdout",
     "output_type": "stream",
     "text": [
      "              precision    recall  f1-score   support\n",
      "\n",
      "           0       0.68      0.20      0.31       769\n",
      "           1       0.70      0.95      0.81      1505\n",
      "\n",
      "    accuracy                           0.70      2274\n",
      "   macro avg       0.69      0.58      0.56      2274\n",
      "weighted avg       0.69      0.70      0.64      2274\n",
      "\n"
     ]
    }
   ],
   "source": [
    "clf_custom = SVC(kernel='poly')\n",
    "clf_custom.fit(X_train, Y_train)\n",
    "y_pred = clf_custom.predict(X_test)\n",
    "print(classification_report(Y_test, y_pred))\n",
    "F1.append(f1_score(Y_test, y_pred))"
   ]
  },
  {
   "cell_type": "code",
   "execution_count": 19,
   "metadata": {},
   "outputs": [
    {
     "name": "stdout",
     "output_type": "stream",
     "text": [
      "              precision    recall  f1-score   support\n",
      "\n",
      "           0       0.31      0.33      0.32       769\n",
      "           1       0.65      0.63      0.64      1505\n",
      "\n",
      "    accuracy                           0.53      2274\n",
      "   macro avg       0.48      0.48      0.48      2274\n",
      "weighted avg       0.54      0.53      0.53      2274\n",
      "\n"
     ]
    }
   ],
   "source": [
    "clf_custom = SVC(kernel='sigmoid')\n",
    "clf_custom.fit(X_train, Y_train)\n",
    "y_pred = clf_custom.predict(X_test)\n",
    "print(classification_report(Y_test, y_pred))\n",
    "F1.append(f1_score(Y_test, y_pred))"
   ]
  },
  {
   "cell_type": "code",
   "execution_count": 20,
   "metadata": {},
   "outputs": [
    {
     "data": {
      "text/plain": [
       "array([0.26182423, 0.26365142, 0.26476778, 0.20975657])"
      ]
     },
     "execution_count": 20,
     "metadata": {},
     "output_type": "execute_result"
    }
   ],
   "source": [
    "Ponderaciones=F1/sum(F1)\n",
    "Ponderaciones"
   ]
  },
  {
   "cell_type": "markdown",
   "metadata": {},
   "source": [
    "Kernel combination"
   ]
  },
  {
   "cell_type": "code",
   "execution_count": 21,
   "metadata": {},
   "outputs": [],
   "source": [
    "F1 = []"
   ]
  },
  {
   "cell_type": "code",
   "execution_count": 14,
   "metadata": {},
   "outputs": [
    {
     "name": "stdout",
     "output_type": "stream",
     "text": [
      "              precision    recall  f1-score   support\n",
      "\n",
      "           0       0.72      0.25      0.37       823\n",
      "           1       0.69      0.95      0.80      1451\n",
      "\n",
      "    accuracy                           0.69      2274\n",
      "   macro avg       0.71      0.60      0.58      2274\n",
      "weighted avg       0.70      0.69      0.64      2274\n",
      "\n"
     ]
    },
    {
     "ename": "NameError",
     "evalue": "name 'F1' is not defined",
     "output_type": "error",
     "traceback": [
      "\u001b[1;31m---------------------------------------------------------------------------\u001b[0m",
      "\u001b[1;31mNameError\u001b[0m                                 Traceback (most recent call last)",
      "\u001b[1;32mc:\\Users\\gomezcb\\OneDrive - Banco BTG Pactual S.A\\Área de Trabalho\\Universidad\\Estadistica No Parametrica\\Trabajo Final\\Trabajo_Final.ipynb Celda 24\u001b[0m in \u001b[0;36m<cell line: 5>\u001b[1;34m()\u001b[0m\n\u001b[0;32m      <a href='vscode-notebook-cell:/c%3A/Users/gomezcb/OneDrive%20-%20Banco%20BTG%20Pactual%20S.A/%C3%81rea%20de%20Trabalho/Universidad/Estadistica%20No%20Parametrica/Trabajo%20Final/Trabajo_Final.ipynb#X36sZmlsZQ%3D%3D?line=2'>3</a>\u001b[0m y_pred \u001b[39m=\u001b[39m clf_custom\u001b[39m.\u001b[39mpredict(X_test)\n\u001b[0;32m      <a href='vscode-notebook-cell:/c%3A/Users/gomezcb/OneDrive%20-%20Banco%20BTG%20Pactual%20S.A/%C3%81rea%20de%20Trabalho/Universidad/Estadistica%20No%20Parametrica/Trabajo%20Final/Trabajo_Final.ipynb#X36sZmlsZQ%3D%3D?line=3'>4</a>\u001b[0m \u001b[39mprint\u001b[39m(classification_report(Y_test, y_pred))\n\u001b[1;32m----> <a href='vscode-notebook-cell:/c%3A/Users/gomezcb/OneDrive%20-%20Banco%20BTG%20Pactual%20S.A/%C3%81rea%20de%20Trabalho/Universidad/Estadistica%20No%20Parametrica/Trabajo%20Final/Trabajo_Final.ipynb#X36sZmlsZQ%3D%3D?line=4'>5</a>\u001b[0m F1\u001b[39m.\u001b[39mappend(f1_score(Y_test, y_pred))\n",
      "\u001b[1;31mNameError\u001b[0m: name 'F1' is not defined"
     ]
    }
   ],
   "source": [
    "clf_custom = SVC(kernel=polynomial_kernel)\n",
    "clf_custom.fit(X_train, Y_train)\n",
    "y_pred = clf_custom.predict(X_test)\n",
    "print(classification_report(Y_test, y_pred))\n",
    "F1.append(f1_score(Y_test, y_pred))"
   ]
  },
  {
   "cell_type": "code",
   "execution_count": 14,
   "metadata": {},
   "outputs": [
    {
     "name": "stdout",
     "output_type": "stream",
     "text": [
      "              precision    recall  f1-score   support\n",
      "\n",
      "           0       0.69      0.25      0.37       814\n",
      "           1       0.69      0.94      0.80      1460\n",
      "\n",
      "    accuracy                           0.69      2274\n",
      "   macro avg       0.69      0.59      0.58      2274\n",
      "weighted avg       0.69      0.69      0.64      2274\n",
      "\n"
     ]
    },
    {
     "ename": "NameError",
     "evalue": "name 'F1' is not defined",
     "output_type": "error",
     "traceback": [
      "\u001b[1;31m---------------------------------------------------------------------------\u001b[0m",
      "\u001b[1;31mNameError\u001b[0m                                 Traceback (most recent call last)",
      "\u001b[1;32mc:\\Users\\gomezcb\\OneDrive - Banco BTG Pactual S.A\\Área de Trabalho\\Universidad\\Estadistica No Parametrica\\Trabajo Final\\Trabajo_Final.ipynb Celda 35\u001b[0m in \u001b[0;36m<cell line: 5>\u001b[1;34m()\u001b[0m\n\u001b[0;32m      <a href='vscode-notebook-cell:/c%3A/Users/gomezcb/OneDrive%20-%20Banco%20BTG%20Pactual%20S.A/%C3%81rea%20de%20Trabalho/Universidad/Estadistica%20No%20Parametrica/Trabajo%20Final/Trabajo_Final.ipynb#X44sZmlsZQ%3D%3D?line=2'>3</a>\u001b[0m y_pred \u001b[39m=\u001b[39m clf_custom\u001b[39m.\u001b[39mpredict(X_test)\n\u001b[0;32m      <a href='vscode-notebook-cell:/c%3A/Users/gomezcb/OneDrive%20-%20Banco%20BTG%20Pactual%20S.A/%C3%81rea%20de%20Trabalho/Universidad/Estadistica%20No%20Parametrica/Trabajo%20Final/Trabajo_Final.ipynb#X44sZmlsZQ%3D%3D?line=3'>4</a>\u001b[0m \u001b[39mprint\u001b[39m(classification_report(Y_test, y_pred))\n\u001b[1;32m----> <a href='vscode-notebook-cell:/c%3A/Users/gomezcb/OneDrive%20-%20Banco%20BTG%20Pactual%20S.A/%C3%81rea%20de%20Trabalho/Universidad/Estadistica%20No%20Parametrica/Trabajo%20Final/Trabajo_Final.ipynb#X44sZmlsZQ%3D%3D?line=4'>5</a>\u001b[0m F1\u001b[39m.\u001b[39mappend(f1_score(Y_test, y_pred))\n",
      "\u001b[1;31mNameError\u001b[0m: name 'F1' is not defined"
     ]
    }
   ],
   "source": [
    "clf_custom = SVC(kernel=polynomial_kernel)\n",
    "clf_custom.fit(X_train, Y_train)\n",
    "y_pred = clf_custom.predict(X_test)\n",
    "print(classification_report(Y_test, y_pred))\n",
    "F1.append(f1_score(Y_test, y_pred))"
   ]
  },
  {
   "cell_type": "code",
   "execution_count": 52,
   "metadata": {},
   "outputs": [
    {
     "name": "stdout",
     "output_type": "stream",
     "text": [
      "              precision    recall  f1-score   support\n",
      "\n",
      "           0       0.62      0.28      0.38       812\n",
      "           1       0.69      0.91      0.79      1462\n",
      "\n",
      "    accuracy                           0.68      2274\n",
      "   macro avg       0.66      0.59      0.58      2274\n",
      "weighted avg       0.67      0.68      0.64      2274\n",
      "\n"
     ]
    }
   ],
   "source": [
    "clf_custom = SVC(kernel=gaussianKernel)\n",
    "clf_custom.fit(X_train, Y_train)\n",
    "y_pred = clf_custom.predict(X_test)\n",
    "print(classification_report(Y_test, y_pred))\n",
    "# F1.append(f1_score(Y_test, y_pred))"
   ]
  },
  {
   "cell_type": "code",
   "execution_count": 26,
   "metadata": {},
   "outputs": [
    {
     "name": "stdout",
     "output_type": "stream",
     "text": [
      "              precision    recall  f1-score   support\n",
      "\n",
      "           0       0.31      0.34      0.32       769\n",
      "           1       0.64      0.61      0.63      1505\n",
      "\n",
      "    accuracy                           0.52      2274\n",
      "   macro avg       0.48      0.48      0.48      2274\n",
      "weighted avg       0.53      0.52      0.52      2274\n",
      "\n"
     ]
    }
   ],
   "source": [
    "clf_custom = SVC(kernel=tanhKernel)\n",
    "clf_custom.fit(X_train, Y_train)\n",
    "y_pred = clf_custom.predict(X_test)\n",
    "print(classification_report(Y_test, y_pred))\n",
    "F1.append(f1_score(Y_test, y_pred))"
   ]
  },
  {
   "cell_type": "code",
   "execution_count": 27,
   "metadata": {},
   "outputs": [
    {
     "data": {
      "text/plain": [
       "[0.7971139971139971,\n",
       " 0.7973509933774834,\n",
       " 0.8007170600537795,\n",
       " 0.6268350973028337]"
      ]
     },
     "execution_count": 27,
     "metadata": {},
     "output_type": "execute_result"
    }
   ],
   "source": [
    "F1"
   ]
  },
  {
   "cell_type": "code",
   "execution_count": 41,
   "metadata": {},
   "outputs": [
    {
     "data": {
      "text/plain": [
       "array([0.25, 0.25, 0.25, 0.25])"
      ]
     },
     "execution_count": 41,
     "metadata": {},
     "output_type": "execute_result"
    }
   ],
   "source": [
    "Ponderaciones=np.ones(4)*1/4\n",
    "Ponderaciones"
   ]
  },
  {
   "cell_type": "code",
   "execution_count": 31,
   "metadata": {},
   "outputs": [],
   "source": [
    "def combined(X,Y):\n",
    "    com = Ponderaciones[0]*polynomial_kernel(X,Y) + Ponderaciones[1]*linearKernell(X,Y) \n",
    "    + Ponderaciones[2]*gaussianKernel2(X, Y) + Ponderaciones[3]*tanhKernel(X, Y)\n",
    "    return com"
   ]
  },
  {
   "cell_type": "code",
   "execution_count": 32,
   "metadata": {},
   "outputs": [
    {
     "name": "stdout",
     "output_type": "stream",
     "text": [
      "              precision    recall  f1-score   support\n",
      "\n",
      "           0       0.58      0.26      0.36       769\n",
      "           1       0.70      0.90      0.79      1505\n",
      "\n",
      "    accuracy                           0.69      2274\n",
      "   macro avg       0.64      0.58      0.58      2274\n",
      "weighted avg       0.66      0.69      0.65      2274\n",
      "\n"
     ]
    }
   ],
   "source": [
    "clf_custom = SVC(kernel=combined)\n",
    "clf_custom.fit(X_train, Y_train)\n",
    "y_pred = clf_custom.predict(X_test)\n",
    "print(classification_report(Y_test, y_pred))"
   ]
  },
  {
   "cell_type": "code",
   "execution_count": 33,
   "metadata": {},
   "outputs": [
    {
     "data": {
      "text/plain": [
       "0.7925516438754728"
      ]
     },
     "execution_count": 33,
     "metadata": {},
     "output_type": "execute_result"
    }
   ],
   "source": [
    "f1_score(Y_test, y_pred)"
   ]
  },
  {
   "cell_type": "code",
   "execution_count": 40,
   "metadata": {},
   "outputs": [],
   "source": [
    "def kernel_bootstrap(X, y, nb=100):\n",
    "    from tqdm import tqdm\n",
    "    F1 = np.zeros([nb, 4])\n",
    "    for i in tqdm(range(nb)):\n",
    "        idx = np.array(list(np.random.choice(np.where(y==1)[0], 250, replace=True)) + list(np.random.choice(np.where(y==0)[0], 250, replace=True)))\n",
    "\n",
    "        X_sample = X[idx]\n",
    "        y_sample = y[idx]\n",
    "        X_train, X_test, Y_train, Y_test = train_test_split(X_sample,y_sample,test_size=0.25)\n",
    "        \n",
    "        clf_linear = SVC(kernel='linear')\n",
    "        clf_linear.fit(X_train, Y_train)\n",
    "        y_pred_linear = clf_linear.predict(X_test)\n",
    "        F1[i, 0] = f1_score(Y_test, y_pred_linear)\n",
    "        \n",
    "        clf_gaussian = SVC(kernel='rbf')\n",
    "        clf_gaussian.fit(X_train, Y_train)\n",
    "        y_pred_gaussian = clf_gaussian.predict(X_test) \n",
    "        F1[i, 1] = f1_score(Y_test, y_pred_gaussian)\n",
    "        \n",
    "        clf_tan = SVC(kernel='sigmoid')\n",
    "        clf_tan.fit(X_train, Y_train)\n",
    "        y_pred_tan = clf_tan.predict(X_test)\n",
    "        F1[i, 2] = f1_score(Y_test, y_pred_tan)\n",
    "\n",
    "        clf_pol = SVC(kernel='poly')\n",
    "        clf_pol.fit(X_train, Y_train)\n",
    "        y_pred_pol = clf_pol.predict(X_test)\n",
    "        F1[i, 3] = f1_score(Y_test, y_pred_pol)\n",
    "\n",
    "    return F1"
   ]
  },
  {
   "cell_type": "code",
   "execution_count": 41,
   "metadata": {},
   "outputs": [
    {
     "name": "stderr",
     "output_type": "stream",
     "text": [
      "100%|██████████| 1000/1000 [00:32<00:00, 30.92it/s]\n"
     ]
    }
   ],
   "source": [
    "F1 = pd.DataFrame(kernel_bootstrap(X_train, Y_train, 1000))"
   ]
  },
  {
   "cell_type": "code",
   "execution_count": 42,
   "metadata": {},
   "outputs": [
    {
     "data": {
      "text/html": [
       "<div>\n",
       "<style scoped>\n",
       "    .dataframe tbody tr th:only-of-type {\n",
       "        vertical-align: middle;\n",
       "    }\n",
       "\n",
       "    .dataframe tbody tr th {\n",
       "        vertical-align: top;\n",
       "    }\n",
       "\n",
       "    .dataframe thead th {\n",
       "        text-align: right;\n",
       "    }\n",
       "</style>\n",
       "<table border=\"1\" class=\"dataframe\">\n",
       "  <thead>\n",
       "    <tr style=\"text-align: right;\">\n",
       "      <th></th>\n",
       "      <th>0</th>\n",
       "      <th>1</th>\n",
       "      <th>2</th>\n",
       "      <th>3</th>\n",
       "    </tr>\n",
       "  </thead>\n",
       "  <tbody>\n",
       "    <tr>\n",
       "      <th>0</th>\n",
       "      <td>0.637681</td>\n",
       "      <td>0.631579</td>\n",
       "      <td>0.623188</td>\n",
       "      <td>0.645161</td>\n",
       "    </tr>\n",
       "    <tr>\n",
       "      <th>1</th>\n",
       "      <td>0.560748</td>\n",
       "      <td>0.504505</td>\n",
       "      <td>0.595041</td>\n",
       "      <td>0.581081</td>\n",
       "    </tr>\n",
       "    <tr>\n",
       "      <th>2</th>\n",
       "      <td>0.597015</td>\n",
       "      <td>0.651163</td>\n",
       "      <td>0.545455</td>\n",
       "      <td>0.583333</td>\n",
       "    </tr>\n",
       "    <tr>\n",
       "      <th>3</th>\n",
       "      <td>0.538462</td>\n",
       "      <td>0.701493</td>\n",
       "      <td>0.527132</td>\n",
       "      <td>0.651852</td>\n",
       "    </tr>\n",
       "    <tr>\n",
       "      <th>4</th>\n",
       "      <td>0.566372</td>\n",
       "      <td>0.615385</td>\n",
       "      <td>0.551724</td>\n",
       "      <td>0.625000</td>\n",
       "    </tr>\n",
       "    <tr>\n",
       "      <th>...</th>\n",
       "      <td>...</td>\n",
       "      <td>...</td>\n",
       "      <td>...</td>\n",
       "      <td>...</td>\n",
       "    </tr>\n",
       "    <tr>\n",
       "      <th>995</th>\n",
       "      <td>0.578512</td>\n",
       "      <td>0.640625</td>\n",
       "      <td>0.538462</td>\n",
       "      <td>0.648649</td>\n",
       "    </tr>\n",
       "    <tr>\n",
       "      <th>996</th>\n",
       "      <td>0.550000</td>\n",
       "      <td>0.557377</td>\n",
       "      <td>0.434783</td>\n",
       "      <td>0.635135</td>\n",
       "    </tr>\n",
       "    <tr>\n",
       "      <th>997</th>\n",
       "      <td>0.455285</td>\n",
       "      <td>0.526316</td>\n",
       "      <td>0.481481</td>\n",
       "      <td>0.593103</td>\n",
       "    </tr>\n",
       "    <tr>\n",
       "      <th>998</th>\n",
       "      <td>0.597015</td>\n",
       "      <td>0.545455</td>\n",
       "      <td>0.519685</td>\n",
       "      <td>0.637500</td>\n",
       "    </tr>\n",
       "    <tr>\n",
       "      <th>999</th>\n",
       "      <td>0.651852</td>\n",
       "      <td>0.692308</td>\n",
       "      <td>0.558140</td>\n",
       "      <td>0.573643</td>\n",
       "    </tr>\n",
       "  </tbody>\n",
       "</table>\n",
       "<p>1000 rows × 4 columns</p>\n",
       "</div>"
      ],
      "text/plain": [
       "            0         1         2         3\n",
       "0    0.637681  0.631579  0.623188  0.645161\n",
       "1    0.560748  0.504505  0.595041  0.581081\n",
       "2    0.597015  0.651163  0.545455  0.583333\n",
       "3    0.538462  0.701493  0.527132  0.651852\n",
       "4    0.566372  0.615385  0.551724  0.625000\n",
       "..        ...       ...       ...       ...\n",
       "995  0.578512  0.640625  0.538462  0.648649\n",
       "996  0.550000  0.557377  0.434783  0.635135\n",
       "997  0.455285  0.526316  0.481481  0.593103\n",
       "998  0.597015  0.545455  0.519685  0.637500\n",
       "999  0.651852  0.692308  0.558140  0.573643\n",
       "\n",
       "[1000 rows x 4 columns]"
      ]
     },
     "execution_count": 42,
     "metadata": {},
     "output_type": "execute_result"
    }
   ],
   "source": [
    "F1"
   ]
  },
  {
   "cell_type": "code",
   "execution_count": 43,
   "metadata": {},
   "outputs": [],
   "source": [
    "F1_median = np.median(F1, axis=0)/np.sum(np.median(F1, axis=0))"
   ]
  },
  {
   "cell_type": "code",
   "execution_count": 44,
   "metadata": {},
   "outputs": [
    {
     "data": {
      "text/plain": [
       "array([0.24953774, 0.26033599, 0.23032625, 0.25980002])"
      ]
     },
     "execution_count": 44,
     "metadata": {},
     "output_type": "execute_result"
    }
   ],
   "source": [
    "F1_median"
   ]
  },
  {
   "cell_type": "code",
   "execution_count": 45,
   "metadata": {},
   "outputs": [],
   "source": [
    "def combined(X,Y):\n",
    "    com = F1_median[0]*linearKernell(X,Y) + F1_median[1]*gaussianKernel2(X,Y) \n",
    "    + F1_median[2]*tanhKernel(X, Y) + F1_median[3]*polynomial_kernel(X, Y)\n",
    "    return com"
   ]
  },
  {
   "cell_type": "code",
   "execution_count": 47,
   "metadata": {},
   "outputs": [],
   "source": []
  },
  {
   "cell_type": "code",
   "execution_count": null,
   "metadata": {},
   "outputs": [],
   "source": [
    "lf_intent = SVC(kernel='sigmoid')\n",
    "lf_intent.fit(X_train, Y_train)\n",
    "y_pred_tan = lf_intent.predict(X_test)\n",
    "F1[i, 2] = f1_score(Y_test, y_pred_tan)"
   ]
  },
  {
   "cell_type": "code",
   "execution_count": 48,
   "metadata": {},
   "outputs": [
    {
     "ename": "ValueError",
     "evalue": "Expected 2D array, got 1D array instead:\narray=[1. 1. 1. ... 1. 1. 1.].\nReshape your data either using array.reshape(-1, 1) if your data has a single feature or array.reshape(1, -1) if it contains a single sample.",
     "output_type": "error",
     "traceback": [
      "\u001b[1;31m---------------------------------------------------------------------------\u001b[0m",
      "\u001b[1;31mValueError\u001b[0m                                Traceback (most recent call last)",
      "\u001b[1;32mc:\\Users\\gomezcb\\OneDrive - Banco BTG Pactual S.A\\Área de Trabalho\\Universidad\\Estadistica No Parametrica\\Trabajo Final\\Trabajo_Final.ipynb Celda 41\u001b[0m in \u001b[0;36m<cell line: 1>\u001b[1;34m()\u001b[0m\n\u001b[1;32m----> <a href='vscode-notebook-cell:/c%3A/Users/gomezcb/OneDrive%20-%20Banco%20BTG%20Pactual%20S.A/%C3%81rea%20de%20Trabalho/Universidad/Estadistica%20No%20Parametrica/Trabajo%20Final/Trabajo_Final.ipynb#Y100sZmlsZQ%3D%3D?line=0'>1</a>\u001b[0m pk(X,Y,metric\u001b[39m=\u001b[39;49m\u001b[39m'\u001b[39;49m\u001b[39mlinear\u001b[39;49m\u001b[39m'\u001b[39;49m)\n",
      "File \u001b[1;32mc:\\Users\\gomezcb\\AppData\\Local\\Programs\\Python\\Python39\\lib\\site-packages\\sklearn\\metrics\\pairwise.py:2153\u001b[0m, in \u001b[0;36mpairwise_kernels\u001b[1;34m(X, Y, metric, filter_params, n_jobs, **kwds)\u001b[0m\n\u001b[0;32m   2150\u001b[0m \u001b[39melse\u001b[39;00m:\n\u001b[0;32m   2151\u001b[0m     \u001b[39mraise\u001b[39;00m \u001b[39mValueError\u001b[39;00m(\u001b[39m\"\u001b[39m\u001b[39mUnknown kernel \u001b[39m\u001b[39m%r\u001b[39;00m\u001b[39m\"\u001b[39m \u001b[39m%\u001b[39m metric)\n\u001b[1;32m-> 2153\u001b[0m \u001b[39mreturn\u001b[39;00m _parallel_pairwise(X, Y, func, n_jobs, \u001b[39m*\u001b[39m\u001b[39m*\u001b[39mkwds)\n",
      "File \u001b[1;32mc:\\Users\\gomezcb\\AppData\\Local\\Programs\\Python\\Python39\\lib\\site-packages\\sklearn\\metrics\\pairwise.py:1530\u001b[0m, in \u001b[0;36m_parallel_pairwise\u001b[1;34m(X, Y, func, n_jobs, **kwds)\u001b[0m\n\u001b[0;32m   1527\u001b[0m X, Y, dtype \u001b[39m=\u001b[39m _return_float_dtype(X, Y)\n\u001b[0;32m   1529\u001b[0m \u001b[39mif\u001b[39;00m effective_n_jobs(n_jobs) \u001b[39m==\u001b[39m \u001b[39m1\u001b[39m:\n\u001b[1;32m-> 1530\u001b[0m     \u001b[39mreturn\u001b[39;00m func(X, Y, \u001b[39m*\u001b[39m\u001b[39m*\u001b[39mkwds)\n\u001b[0;32m   1532\u001b[0m \u001b[39m# enforce a threading backend to prevent data communication overhead\u001b[39;00m\n\u001b[0;32m   1533\u001b[0m fd \u001b[39m=\u001b[39m delayed(_dist_wrapper)\n",
      "File \u001b[1;32mc:\\Users\\gomezcb\\AppData\\Local\\Programs\\Python\\Python39\\lib\\site-packages\\sklearn\\metrics\\pairwise.py:1170\u001b[0m, in \u001b[0;36mlinear_kernel\u001b[1;34m(X, Y, dense_output)\u001b[0m\n\u001b[0;32m   1145\u001b[0m \u001b[39mdef\u001b[39;00m \u001b[39mlinear_kernel\u001b[39m(X, Y\u001b[39m=\u001b[39m\u001b[39mNone\u001b[39;00m, dense_output\u001b[39m=\u001b[39m\u001b[39mTrue\u001b[39;00m):\n\u001b[0;32m   1146\u001b[0m     \u001b[39m\"\"\"\u001b[39;00m\n\u001b[0;32m   1147\u001b[0m \u001b[39m    Compute the linear kernel between X and Y.\u001b[39;00m\n\u001b[0;32m   1148\u001b[0m \n\u001b[1;32m   (...)\u001b[0m\n\u001b[0;32m   1168\u001b[0m \u001b[39m        The Gram matrix of the linear kernel, i.e. `X @ Y.T`.\u001b[39;00m\n\u001b[0;32m   1169\u001b[0m \u001b[39m    \"\"\"\u001b[39;00m\n\u001b[1;32m-> 1170\u001b[0m     X, Y \u001b[39m=\u001b[39m check_pairwise_arrays(X, Y)\n\u001b[0;32m   1171\u001b[0m     \u001b[39mreturn\u001b[39;00m safe_sparse_dot(X, Y\u001b[39m.\u001b[39mT, dense_output\u001b[39m=\u001b[39mdense_output)\n",
      "File \u001b[1;32mc:\\Users\\gomezcb\\AppData\\Local\\Programs\\Python\\Python39\\lib\\site-packages\\sklearn\\metrics\\pairwise.py:164\u001b[0m, in \u001b[0;36mcheck_pairwise_arrays\u001b[1;34m(X, Y, precomputed, dtype, accept_sparse, force_all_finite, copy)\u001b[0m\n\u001b[0;32m    155\u001b[0m \u001b[39melse\u001b[39;00m:\n\u001b[0;32m    156\u001b[0m     X \u001b[39m=\u001b[39m check_array(\n\u001b[0;32m    157\u001b[0m         X,\n\u001b[0;32m    158\u001b[0m         accept_sparse\u001b[39m=\u001b[39maccept_sparse,\n\u001b[1;32m   (...)\u001b[0m\n\u001b[0;32m    162\u001b[0m         estimator\u001b[39m=\u001b[39mestimator,\n\u001b[0;32m    163\u001b[0m     )\n\u001b[1;32m--> 164\u001b[0m     Y \u001b[39m=\u001b[39m check_array(\n\u001b[0;32m    165\u001b[0m         Y,\n\u001b[0;32m    166\u001b[0m         accept_sparse\u001b[39m=\u001b[39;49maccept_sparse,\n\u001b[0;32m    167\u001b[0m         dtype\u001b[39m=\u001b[39;49mdtype,\n\u001b[0;32m    168\u001b[0m         copy\u001b[39m=\u001b[39;49mcopy,\n\u001b[0;32m    169\u001b[0m         force_all_finite\u001b[39m=\u001b[39;49mforce_all_finite,\n\u001b[0;32m    170\u001b[0m         estimator\u001b[39m=\u001b[39;49mestimator,\n\u001b[0;32m    171\u001b[0m     )\n\u001b[0;32m    173\u001b[0m \u001b[39mif\u001b[39;00m precomputed:\n\u001b[0;32m    174\u001b[0m     \u001b[39mif\u001b[39;00m X\u001b[39m.\u001b[39mshape[\u001b[39m1\u001b[39m] \u001b[39m!=\u001b[39m Y\u001b[39m.\u001b[39mshape[\u001b[39m0\u001b[39m]:\n",
      "File \u001b[1;32mc:\\Users\\gomezcb\\AppData\\Local\\Programs\\Python\\Python39\\lib\\site-packages\\sklearn\\utils\\validation.py:879\u001b[0m, in \u001b[0;36mcheck_array\u001b[1;34m(array, accept_sparse, accept_large_sparse, dtype, order, copy, force_all_finite, ensure_2d, allow_nd, ensure_min_samples, ensure_min_features, estimator, input_name)\u001b[0m\n\u001b[0;32m    877\u001b[0m     \u001b[39m# If input is 1D raise error\u001b[39;00m\n\u001b[0;32m    878\u001b[0m     \u001b[39mif\u001b[39;00m array\u001b[39m.\u001b[39mndim \u001b[39m==\u001b[39m \u001b[39m1\u001b[39m:\n\u001b[1;32m--> 879\u001b[0m         \u001b[39mraise\u001b[39;00m \u001b[39mValueError\u001b[39;00m(\n\u001b[0;32m    880\u001b[0m             \u001b[39m\"\u001b[39m\u001b[39mExpected 2D array, got 1D array instead:\u001b[39m\u001b[39m\\n\u001b[39;00m\u001b[39marray=\u001b[39m\u001b[39m{}\u001b[39;00m\u001b[39m.\u001b[39m\u001b[39m\\n\u001b[39;00m\u001b[39m\"\u001b[39m\n\u001b[0;32m    881\u001b[0m             \u001b[39m\"\u001b[39m\u001b[39mReshape your data either using array.reshape(-1, 1) if \u001b[39m\u001b[39m\"\u001b[39m\n\u001b[0;32m    882\u001b[0m             \u001b[39m\"\u001b[39m\u001b[39myour data has a single feature or array.reshape(1, -1) \u001b[39m\u001b[39m\"\u001b[39m\n\u001b[0;32m    883\u001b[0m             \u001b[39m\"\u001b[39m\u001b[39mif it contains a single sample.\u001b[39m\u001b[39m\"\u001b[39m\u001b[39m.\u001b[39mformat(array)\n\u001b[0;32m    884\u001b[0m         )\n\u001b[0;32m    886\u001b[0m \u001b[39mif\u001b[39;00m dtype_numeric \u001b[39mand\u001b[39;00m array\u001b[39m.\u001b[39mdtype\u001b[39m.\u001b[39mkind \u001b[39min\u001b[39;00m \u001b[39m\"\u001b[39m\u001b[39mUSV\u001b[39m\u001b[39m\"\u001b[39m:\n\u001b[0;32m    887\u001b[0m     \u001b[39mraise\u001b[39;00m \u001b[39mValueError\u001b[39;00m(\n\u001b[0;32m    888\u001b[0m         \u001b[39m\"\u001b[39m\u001b[39mdtype=\u001b[39m\u001b[39m'\u001b[39m\u001b[39mnumeric\u001b[39m\u001b[39m'\u001b[39m\u001b[39m is not compatible with arrays of bytes/strings.\u001b[39m\u001b[39m\"\u001b[39m\n\u001b[0;32m    889\u001b[0m         \u001b[39m\"\u001b[39m\u001b[39mConvert your data to numeric values explicitly instead.\u001b[39m\u001b[39m\"\u001b[39m\n\u001b[0;32m    890\u001b[0m     )\n",
      "\u001b[1;31mValueError\u001b[0m: Expected 2D array, got 1D array instead:\narray=[1. 1. 1. ... 1. 1. 1.].\nReshape your data either using array.reshape(-1, 1) if your data has a single feature or array.reshape(1, -1) if it contains a single sample."
     ]
    }
   ],
   "source": []
  },
  {
   "cell_type": "code",
   "execution_count": 46,
   "metadata": {},
   "outputs": [
    {
     "ename": "KeyboardInterrupt",
     "evalue": "",
     "output_type": "error",
     "traceback": [
      "\u001b[1;31m---------------------------------------------------------------------------\u001b[0m",
      "\u001b[1;31mKeyboardInterrupt\u001b[0m                         Traceback (most recent call last)",
      "\u001b[1;32mc:\\Users\\gomezcb\\OneDrive - Banco BTG Pactual S.A\\Área de Trabalho\\Universidad\\Estadistica No Parametrica\\Trabajo Final\\Trabajo_Final.ipynb Celda 42\u001b[0m in \u001b[0;36m<cell line: 2>\u001b[1;34m()\u001b[0m\n\u001b[0;32m      <a href='vscode-notebook-cell:/c%3A/Users/gomezcb/OneDrive%20-%20Banco%20BTG%20Pactual%20S.A/%C3%81rea%20de%20Trabalho/Universidad/Estadistica%20No%20Parametrica/Trabajo%20Final/Trabajo_Final.ipynb#X56sZmlsZQ%3D%3D?line=0'>1</a>\u001b[0m clf_custom \u001b[39m=\u001b[39m SVC(kernel\u001b[39m=\u001b[39mcombined)\n\u001b[1;32m----> <a href='vscode-notebook-cell:/c%3A/Users/gomezcb/OneDrive%20-%20Banco%20BTG%20Pactual%20S.A/%C3%81rea%20de%20Trabalho/Universidad/Estadistica%20No%20Parametrica/Trabajo%20Final/Trabajo_Final.ipynb#X56sZmlsZQ%3D%3D?line=1'>2</a>\u001b[0m clf_custom\u001b[39m.\u001b[39;49mfit(X_train, Y_train)\n\u001b[0;32m      <a href='vscode-notebook-cell:/c%3A/Users/gomezcb/OneDrive%20-%20Banco%20BTG%20Pactual%20S.A/%C3%81rea%20de%20Trabalho/Universidad/Estadistica%20No%20Parametrica/Trabajo%20Final/Trabajo_Final.ipynb#X56sZmlsZQ%3D%3D?line=2'>3</a>\u001b[0m y_pred \u001b[39m=\u001b[39m clf_custom\u001b[39m.\u001b[39mpredict(X_test)\n\u001b[0;32m      <a href='vscode-notebook-cell:/c%3A/Users/gomezcb/OneDrive%20-%20Banco%20BTG%20Pactual%20S.A/%C3%81rea%20de%20Trabalho/Universidad/Estadistica%20No%20Parametrica/Trabajo%20Final/Trabajo_Final.ipynb#X56sZmlsZQ%3D%3D?line=3'>4</a>\u001b[0m \u001b[39mprint\u001b[39m(classification_report(Y_test, y_pred))\n",
      "File \u001b[1;32mc:\\Users\\gomezcb\\AppData\\Local\\Programs\\Python\\Python39\\lib\\site-packages\\sklearn\\svm\\_base.py:251\u001b[0m, in \u001b[0;36mBaseLibSVM.fit\u001b[1;34m(self, X, y, sample_weight)\u001b[0m\n\u001b[0;32m    248\u001b[0m     \u001b[39mprint\u001b[39m(\u001b[39m\"\u001b[39m\u001b[39m[LibSVM]\u001b[39m\u001b[39m\"\u001b[39m, end\u001b[39m=\u001b[39m\u001b[39m\"\u001b[39m\u001b[39m\"\u001b[39m)\n\u001b[0;32m    250\u001b[0m seed \u001b[39m=\u001b[39m rnd\u001b[39m.\u001b[39mrandint(np\u001b[39m.\u001b[39miinfo(\u001b[39m\"\u001b[39m\u001b[39mi\u001b[39m\u001b[39m\"\u001b[39m)\u001b[39m.\u001b[39mmax)\n\u001b[1;32m--> 251\u001b[0m fit(X, y, sample_weight, solver_type, kernel, random_seed\u001b[39m=\u001b[39;49mseed)\n\u001b[0;32m    252\u001b[0m \u001b[39m# see comment on the other call to np.iinfo in this file\u001b[39;00m\n\u001b[0;32m    254\u001b[0m \u001b[39mself\u001b[39m\u001b[39m.\u001b[39mshape_fit_ \u001b[39m=\u001b[39m X\u001b[39m.\u001b[39mshape \u001b[39mif\u001b[39;00m \u001b[39mhasattr\u001b[39m(X, \u001b[39m\"\u001b[39m\u001b[39mshape\u001b[39m\u001b[39m\"\u001b[39m) \u001b[39melse\u001b[39;00m (n_samples,)\n",
      "File \u001b[1;32mc:\\Users\\gomezcb\\AppData\\Local\\Programs\\Python\\Python39\\lib\\site-packages\\sklearn\\svm\\_base.py:314\u001b[0m, in \u001b[0;36mBaseLibSVM._dense_fit\u001b[1;34m(self, X, y, sample_weight, solver_type, kernel, random_seed)\u001b[0m\n\u001b[0;32m    310\u001b[0m \u001b[39mif\u001b[39;00m callable(\u001b[39mself\u001b[39m\u001b[39m.\u001b[39mkernel):\n\u001b[0;32m    311\u001b[0m     \u001b[39m# you must store a reference to X to compute the kernel in predict\u001b[39;00m\n\u001b[0;32m    312\u001b[0m     \u001b[39m# TODO: add keyword copy to copy on demand\u001b[39;00m\n\u001b[0;32m    313\u001b[0m     \u001b[39mself\u001b[39m\u001b[39m.\u001b[39m__Xfit \u001b[39m=\u001b[39m X\n\u001b[1;32m--> 314\u001b[0m     X \u001b[39m=\u001b[39m \u001b[39mself\u001b[39;49m\u001b[39m.\u001b[39;49m_compute_kernel(X)\n\u001b[0;32m    316\u001b[0m     \u001b[39mif\u001b[39;00m X\u001b[39m.\u001b[39mshape[\u001b[39m0\u001b[39m] \u001b[39m!=\u001b[39m X\u001b[39m.\u001b[39mshape[\u001b[39m1\u001b[39m]:\n\u001b[0;32m    317\u001b[0m         \u001b[39mraise\u001b[39;00m \u001b[39mValueError\u001b[39;00m(\u001b[39m\"\u001b[39m\u001b[39mX.shape[0] should be equal to X.shape[1]\u001b[39m\u001b[39m\"\u001b[39m)\n",
      "File \u001b[1;32mc:\\Users\\gomezcb\\AppData\\Local\\Programs\\Python\\Python39\\lib\\site-packages\\sklearn\\svm\\_base.py:512\u001b[0m, in \u001b[0;36mBaseLibSVM._compute_kernel\u001b[1;34m(self, X)\u001b[0m\n\u001b[0;32m    508\u001b[0m \u001b[39m\"\"\"Return the data transformed by a callable kernel\"\"\"\u001b[39;00m\n\u001b[0;32m    509\u001b[0m \u001b[39mif\u001b[39;00m callable(\u001b[39mself\u001b[39m\u001b[39m.\u001b[39mkernel):\n\u001b[0;32m    510\u001b[0m     \u001b[39m# in the case of precomputed kernel given as a function, we\u001b[39;00m\n\u001b[0;32m    511\u001b[0m     \u001b[39m# have to compute explicitly the kernel matrix\u001b[39;00m\n\u001b[1;32m--> 512\u001b[0m     kernel \u001b[39m=\u001b[39m \u001b[39mself\u001b[39;49m\u001b[39m.\u001b[39;49mkernel(X, \u001b[39mself\u001b[39;49m\u001b[39m.\u001b[39;49m__Xfit)\n\u001b[0;32m    513\u001b[0m     \u001b[39mif\u001b[39;00m sp\u001b[39m.\u001b[39missparse(kernel):\n\u001b[0;32m    514\u001b[0m         kernel \u001b[39m=\u001b[39m kernel\u001b[39m.\u001b[39mtoarray()\n",
      "\u001b[1;32mc:\\Users\\gomezcb\\OneDrive - Banco BTG Pactual S.A\\Área de Trabalho\\Universidad\\Estadistica No Parametrica\\Trabajo Final\\Trabajo_Final.ipynb Celda 42\u001b[0m in \u001b[0;36mcombined\u001b[1;34m(X, Y)\u001b[0m\n\u001b[0;32m      <a href='vscode-notebook-cell:/c%3A/Users/gomezcb/OneDrive%20-%20Banco%20BTG%20Pactual%20S.A/%C3%81rea%20de%20Trabalho/Universidad/Estadistica%20No%20Parametrica/Trabajo%20Final/Trabajo_Final.ipynb#X56sZmlsZQ%3D%3D?line=0'>1</a>\u001b[0m \u001b[39mdef\u001b[39;00m \u001b[39mcombined\u001b[39m(X,Y):\n\u001b[1;32m----> <a href='vscode-notebook-cell:/c%3A/Users/gomezcb/OneDrive%20-%20Banco%20BTG%20Pactual%20S.A/%C3%81rea%20de%20Trabalho/Universidad/Estadistica%20No%20Parametrica/Trabajo%20Final/Trabajo_Final.ipynb#X56sZmlsZQ%3D%3D?line=1'>2</a>\u001b[0m     com \u001b[39m=\u001b[39m F1_median[\u001b[39m0\u001b[39m]\u001b[39m*\u001b[39mlinearKernell(X,Y) \u001b[39m+\u001b[39m F1_median[\u001b[39m1\u001b[39m]\u001b[39m*\u001b[39mgaussianKernel2(X,Y) \n\u001b[0;32m      <a href='vscode-notebook-cell:/c%3A/Users/gomezcb/OneDrive%20-%20Banco%20BTG%20Pactual%20S.A/%C3%81rea%20de%20Trabalho/Universidad/Estadistica%20No%20Parametrica/Trabajo%20Final/Trabajo_Final.ipynb#X56sZmlsZQ%3D%3D?line=2'>3</a>\u001b[0m     \u001b[39m+\u001b[39m F1_median[\u001b[39m2\u001b[39m]\u001b[39m*\u001b[39mtanhKernel(X, Y) \u001b[39m+\u001b[39m F1_median[\u001b[39m3\u001b[39m]\u001b[39m*\u001b[39mpolynomial_kernel(X, Y)\n\u001b[0;32m      <a href='vscode-notebook-cell:/c%3A/Users/gomezcb/OneDrive%20-%20Banco%20BTG%20Pactual%20S.A/%C3%81rea%20de%20Trabalho/Universidad/Estadistica%20No%20Parametrica/Trabajo%20Final/Trabajo_Final.ipynb#X56sZmlsZQ%3D%3D?line=3'>4</a>\u001b[0m     \u001b[39mreturn\u001b[39;00m com\n",
      "\u001b[1;32mc:\\Users\\gomezcb\\OneDrive - Banco BTG Pactual S.A\\Área de Trabalho\\Universidad\\Estadistica No Parametrica\\Trabajo Final\\Trabajo_Final.ipynb Celda 42\u001b[0m in \u001b[0;36mgaussianKernel2\u001b[1;34m(X1, X2, sig)\u001b[0m\n\u001b[0;32m     <a href='vscode-notebook-cell:/c%3A/Users/gomezcb/OneDrive%20-%20Banco%20BTG%20Pactual%20S.A/%C3%81rea%20de%20Trabalho/Universidad/Estadistica%20No%20Parametrica/Trabajo%20Final/Trabajo_Final.ipynb#X56sZmlsZQ%3D%3D?line=27'>28</a>\u001b[0m         x1 \u001b[39m=\u001b[39m x1\u001b[39m.\u001b[39mravel()\n\u001b[0;32m     <a href='vscode-notebook-cell:/c%3A/Users/gomezcb/OneDrive%20-%20Banco%20BTG%20Pactual%20S.A/%C3%81rea%20de%20Trabalho/Universidad/Estadistica%20No%20Parametrica/Trabajo%20Final/Trabajo_Final.ipynb#X56sZmlsZQ%3D%3D?line=28'>29</a>\u001b[0m         x2 \u001b[39m=\u001b[39m x2\u001b[39m.\u001b[39mravel()\n\u001b[1;32m---> <a href='vscode-notebook-cell:/c%3A/Users/gomezcb/OneDrive%20-%20Banco%20BTG%20Pactual%20S.A/%C3%81rea%20de%20Trabalho/Universidad/Estadistica%20No%20Parametrica/Trabajo%20Final/Trabajo_Final.ipynb#X56sZmlsZQ%3D%3D?line=29'>30</a>\u001b[0m         Gram[i, j] \u001b[39m=\u001b[39m np\u001b[39m.\u001b[39mexp(\u001b[39m-\u001b[39mnp\u001b[39m.\u001b[39msum(np\u001b[39m.\u001b[39;49mlinalg\u001b[39m.\u001b[39;49mnorm(x1 \u001b[39m-\u001b[39;49m x2,\u001b[39m2\u001b[39;49m)) \u001b[39m/\u001b[39m (\u001b[39m2\u001b[39m \u001b[39m*\u001b[39m (sig\u001b[39m*\u001b[39m\u001b[39m*\u001b[39m\u001b[39m2\u001b[39m)))\n\u001b[0;32m     <a href='vscode-notebook-cell:/c%3A/Users/gomezcb/OneDrive%20-%20Banco%20BTG%20Pactual%20S.A/%C3%81rea%20de%20Trabalho/Universidad/Estadistica%20No%20Parametrica/Trabajo%20Final/Trabajo_Final.ipynb#X56sZmlsZQ%3D%3D?line=30'>31</a>\u001b[0m \u001b[39mreturn\u001b[39;00m Gram\n",
      "File \u001b[1;32m<__array_function__ internals>:180\u001b[0m, in \u001b[0;36mnorm\u001b[1;34m(*args, **kwargs)\u001b[0m\n",
      "File \u001b[1;32mc:\\Users\\gomezcb\\AppData\\Local\\Programs\\Python\\Python39\\lib\\site-packages\\numpy\\linalg\\linalg.py:2516\u001b[0m, in \u001b[0;36mnorm\u001b[1;34m(x, ord, axis, keepdims)\u001b[0m\n\u001b[0;32m   2514\u001b[0m     sqnorm \u001b[39m=\u001b[39m dot(x\u001b[39m.\u001b[39mreal, x\u001b[39m.\u001b[39mreal) \u001b[39m+\u001b[39m dot(x\u001b[39m.\u001b[39mimag, x\u001b[39m.\u001b[39mimag)\n\u001b[0;32m   2515\u001b[0m \u001b[39melse\u001b[39;00m:\n\u001b[1;32m-> 2516\u001b[0m     sqnorm \u001b[39m=\u001b[39m dot(x, x)\n\u001b[0;32m   2517\u001b[0m ret \u001b[39m=\u001b[39m sqrt(sqnorm)\n\u001b[0;32m   2518\u001b[0m \u001b[39mif\u001b[39;00m keepdims:\n",
      "File \u001b[1;32m<__array_function__ internals>:180\u001b[0m, in \u001b[0;36mdot\u001b[1;34m(*args, **kwargs)\u001b[0m\n",
      "\u001b[1;31mKeyboardInterrupt\u001b[0m: "
     ]
    }
   ],
   "source": [
    "clf_custom = SVC(kernel=combined)\n",
    "clf_custom.fit(X_train, Y_train)\n",
    "y_pred = clf_custom.predict(X_test)\n",
    "print(classification_report(Y_test, y_pred))"
   ]
  }
 ],
 "metadata": {
  "kernelspec": {
   "display_name": "Python 3",
   "language": "python",
   "name": "python3"
  },
  "language_info": {
   "codemirror_mode": {
    "name": "ipython",
    "version": 3
   },
   "file_extension": ".py",
   "mimetype": "text/x-python",
   "name": "python",
   "nbconvert_exporter": "python",
   "pygments_lexer": "ipython3",
   "version": "3.9.5"
  },
  "orig_nbformat": 4,
  "vscode": {
   "interpreter": {
    "hash": "da54721873e6a050272c6ab9309c4fdd61dd35da8ff98547c895f63b4dcb620a"
   }
  }
 },
 "nbformat": 4,
 "nbformat_minor": 2
}
