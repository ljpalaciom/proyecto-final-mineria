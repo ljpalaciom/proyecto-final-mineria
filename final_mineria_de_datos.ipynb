{
  "cells": [
    {
      "cell_type": "code",
      "execution_count": null,
      "metadata": {
        "id": "pH7TQ7bKYild"
      },
      "outputs": [],
      "source": [
        "import pandas as pd\n",
        "import numpy as np\n",
        "import matplotlib.pyplot as plt\n",
        "import os"
      ]
    },
    {
      "cell_type": "code",
      "execution_count": null,
      "metadata": {
        "colab": {
          "base_uri": "https://localhost:8080/"
        },
        "id": "0O_Na08_Y4Yx",
        "outputId": "b73a250c-e6cc-41eb-ea8e-1fcb28ada238"
      },
      "outputs": [
        {
          "output_type": "stream",
          "name": "stdout",
          "text": [
            "Drive already mounted at /content/drive/; to attempt to forcibly remount, call drive.mount(\"/content/drive/\", force_remount=True).\n"
          ]
        }
      ],
      "source": [
        "from google.colab import drive\n",
        "drive.mount('/content/drive/')"
      ]
    },
    {
      "cell_type": "code",
      "execution_count": null,
      "metadata": {
        "id": "mNRV5wX7r5yv"
      },
      "outputs": [],
      "source": [
        "PATH = '/content/drive/MyDrive/Mineria de Datos/Trabajo Final/amazon_reviews_us_Digital_Ebook_Purchase_v1_01.tsv'"
      ]
    },
    {
      "cell_type": "code",
      "execution_count": null,
      "metadata": {
        "colab": {
          "base_uri": "https://localhost:8080/"
        },
        "id": "wipOkhWIjpcw",
        "outputId": "4d313962-cda4-4f19-8110-18e6962e3991"
      },
      "outputs": [
        {
          "output_type": "execute_result",
          "data": {
            "text/plain": [
              "['amazon_reviews_us_Digital_Ebook_Purchase_v1_01.tsv',\n",
              " 'ST1803_Anteproyecto (1).docx',\n",
              " 'Anteproyecto.gdoc',\n",
              " 'Spark_LSH.ipynb',\n",
              " 'Processing.ipynb',\n",
              " 'final mineria de datos.ipynb',\n",
              " 'Proyecto final.gdoc']"
            ]
          },
          "metadata": {},
          "execution_count": 4
        }
      ],
      "source": [
        "os.listdir('/content/drive/MyDrive/Mineria de Datos/Trabajo Final')"
      ]
    },
    {
      "cell_type": "markdown",
      "metadata": {
        "id": "TRYnD6ufrtqj"
      },
      "source": [
        "# Word count"
      ]
    },
    {
      "cell_type": "code",
      "execution_count": null,
      "metadata": {
        "id": "RVBspvFRsB2c"
      },
      "outputs": [],
      "source": [
        "#instalar java y spark\n",
        "!apt-get install openjdk-8-jdk-headless -qq > /dev/null\n",
        "!wget -q https://downloads.apache.org/spark/spark-3.1.3/spark-3.1.3-bin-hadoop3.2.tgz\n",
        "!tar xf spark-3.1.3-bin-hadoop3.2.tgz\n",
        "!pip install -q findspark"
      ]
    },
    {
      "cell_type": "code",
      "execution_count": null,
      "metadata": {
        "id": "yj8UyAEvr_Vw"
      },
      "outputs": [],
      "source": [
        "import os\n",
        "os.environ[\"JAVA_HOME\"] = \"/usr/lib/jvm/java-8-openjdk-amd64\"\n",
        "os.environ[\"SPARK_HOME\"] = \"/content/spark-3.1.3-bin-hadoop3.2\""
      ]
    },
    {
      "cell_type": "code",
      "execution_count": null,
      "metadata": {
        "id": "W0snjCmOsDsA"
      },
      "outputs": [],
      "source": [
        "import findspark\n",
        "findspark.init()"
      ]
    },
    {
      "cell_type": "code",
      "execution_count": null,
      "metadata": {
        "id": "rjTCvNIlOXBA"
      },
      "outputs": [],
      "source": [
        "from pyspark.sql import SparkSession\n",
        "spark = SparkSession.builder.master(\"local[*]\").getOrCreate()\n",
        "sc = spark.sparkContext"
      ]
    },
    {
      "cell_type": "code",
      "execution_count": null,
      "metadata": {
        "colab": {
          "base_uri": "https://localhost:8080/"
        },
        "id": "hv_2h7zZObt1",
        "outputId": "4c2eb8a5-d2b0-45a9-98c7-5f6d3816e5c8"
      },
      "outputs": [
        {
          "output_type": "stream",
          "name": "stdout",
          "text": [
            "Looking in indexes: https://pypi.org/simple, https://us-python.pkg.dev/colab-wheels/public/simple/\n",
            "Requirement already satisfied: pyspark in /usr/local/lib/python3.7/dist-packages (3.3.1)\n",
            "Requirement already satisfied: py4j==0.10.9.5 in /usr/local/lib/python3.7/dist-packages (from pyspark) (0.10.9.5)\n"
          ]
        }
      ],
      "source": [
        "# verificar que tenga previamente el paquete 'pyspark' instalado\n",
        "!pip install pyspark\n",
        "!pip install --ignore-installed -q spark-nlp==2.7.1\n",
        "# en el cluster EMR no hay necesidad de instalar este paquete, ya viene con AWS EMR / Notebooks"
      ]
    },
    {
      "cell_type": "code",
      "execution_count": null,
      "metadata": {
        "id": "9rgQV-PZYltV"
      },
      "outputs": [],
      "source": [
        "import sparknlp \n",
        "spark = sparknlp.start()\n",
        "sc = spark.sparkContext"
      ]
    },
    {
      "cell_type": "code",
      "execution_count": null,
      "metadata": {
        "id": "9Ym5PmjHVj4A"
      },
      "outputs": [],
      "source": [
        "from pyspark.sql import functions as f\n",
        "from pyspark.ml.feature import Tokenizer, StopWordsRemover, HashingTF, IDF, CountVectorizer, Word2Vec, NGram\n",
        "from pyspark.ml.feature import BucketedRandomProjectionLSH\n",
        "from pyspark.ml.linalg import Vectors"
      ]
    },
    {
      "cell_type": "code",
      "execution_count": null,
      "metadata": {
        "id": "T4LLxdQarvma"
      },
      "outputs": [],
      "source": [
        "df = spark.read.options(delimiter='\\t', header=True).csv(PATH)\n",
        "df = df.na.drop()"
      ]
    },
    {
      "cell_type": "code",
      "execution_count": null,
      "metadata": {
        "id": "b39m0qJaPL86"
      },
      "outputs": [],
      "source": [
        "# df.show(2)"
      ]
    },
    {
      "cell_type": "code",
      "execution_count": null,
      "metadata": {
        "id": "Ur_IR65Vpd2L"
      },
      "outputs": [],
      "source": [
        "reviews = df.select([\"product_id\", \"review_body\"])\n",
        "# reviews.count()"
      ]
    },
    {
      "cell_type": "code",
      "execution_count": null,
      "metadata": {
        "id": "rkKUSGhTW0sJ"
      },
      "outputs": [],
      "source": [
        "# reviews.select(\"product_id\").distinct().count()"
      ]
    },
    {
      "cell_type": "markdown",
      "metadata": {
        "id": "u2oiGKptX6DE"
      },
      "source": [
        "\n",
        "We can see one product that does not start with b, but we see the review body is okay so we won't remove it."
      ]
    },
    {
      "cell_type": "code",
      "execution_count": null,
      "metadata": {
        "id": "anvWVpSbXVmq"
      },
      "outputs": [],
      "source": [
        "# reviews.filter(~f.col(\"product_id\").startswith(\"B\")).count()"
      ]
    },
    {
      "cell_type": "code",
      "execution_count": null,
      "metadata": {
        "id": "mhSlT0M7Yg9u"
      },
      "outputs": [],
      "source": [
        "# reviews.filter(~f.col(\"product_id\").startswith(\"B\")).show()"
      ]
    },
    {
      "cell_type": "code",
      "execution_count": null,
      "metadata": {
        "id": "6xK4XT6vYsNH"
      },
      "outputs": [],
      "source": [
        "reviews = reviews.withColumn('review_body', (f.lower(f.regexp_replace('review_body', \"[^a-zA-Z\\\\s]\", \"\"))))"
      ]
    },
    {
      "cell_type": "code",
      "source": [
        "reviews.show(5)"
      ],
      "metadata": {
        "colab": {
          "base_uri": "https://localhost:8080/"
        },
        "id": "9vM9hxWorwEF",
        "outputId": "ac6c925d-d8fd-46cd-ee20-7e7fe3898f13"
      },
      "execution_count": null,
      "outputs": [
        {
          "output_type": "stream",
          "name": "stdout",
          "text": [
            "+----------+--------------------+\n",
            "|product_id|         review_body|\n",
            "+----------+--------------------+\n",
            "|B007KO2MLO|elmore leonard me...|\n",
            "|B005FLODDE|this book was ver...|\n",
            "|B00EA3L35O|i had the opportu...|\n",
            "|B00BL3JV50|what a great read...|\n",
            "|B00CXU7U80|barbarians need l...|\n",
            "+----------+--------------------+\n",
            "only showing top 5 rows\n",
            "\n"
          ]
        }
      ]
    },
    {
      "cell_type": "markdown",
      "metadata": {
        "id": "9NCPo6zbq56s"
      },
      "source": [
        "# Tokenize reviews"
      ]
    },
    {
      "cell_type": "code",
      "execution_count": null,
      "metadata": {
        "id": "zP1Z2sXRbM1I"
      },
      "outputs": [],
      "source": [
        "# reviews = reviews.limit(500000)\n",
        "tokenizationML=Tokenizer(inputCol='review_body', outputCol='tokens')\n",
        "tokenized_df=tokenizationML.transform(reviews).select([\"product_id\", \"tokens\"])\n",
        "# tokenized_df.show(5, True)"
      ]
    },
    {
      "cell_type": "markdown",
      "metadata": {
        "id": "T1H14wJpq00u"
      },
      "source": [
        "# Remove Stopwords"
      ]
    },
    {
      "cell_type": "code",
      "execution_count": null,
      "metadata": {
        "id": "9DTRH0t0a-9j"
      },
      "outputs": [],
      "source": [
        "swremover = StopWordsRemover(inputCol='tokens',outputCol='clean_tokens')\n",
        "tokenized_clean = swremover.transform(tokenized_df).cache()\n",
        "tokenized_clean = tokenized_clean.withColumn(\"clean_tokens\", f.array_remove(\"clean_tokens\", \"\")) # Delete void values\n",
        "# tokenized_clean.show()"
      ]
    },
    {
      "cell_type": "code",
      "source": [
        "from pyspark.sql.types import StringType, ArrayType,StructType,StructField,IntegerType\n",
        "size_ = f.udf(lambda xs: len(xs), IntegerType())\n",
        "tokenized_clean_2=tokenized_clean.limit(15)\n",
        "tokenized_clean_2.where(f.size(f.col(\"clean_tokens\")) >= 2).count()"
      ],
      "metadata": {
        "colab": {
          "base_uri": "https://localhost:8080/"
        },
        "id": "xJx0nsgnuojI",
        "outputId": "e3f76f65-cc2a-4c33-9a55-37d2083bb2b7"
      },
      "execution_count": null,
      "outputs": [
        {
          "output_type": "execute_result",
          "data": {
            "text/plain": [
              "15"
            ]
          },
          "metadata": {},
          "execution_count": 22
        }
      ]
    },
    {
      "cell_type": "code",
      "source": [
        "tokenized_clean.select('clean_tokens').filter(tokenized_clean.clean_tokens>200).show(5,False)"
      ],
      "metadata": {
        "id": "yz7Bmh9JsenI"
      },
      "execution_count": null,
      "outputs": []
    },
    {
      "cell_type": "code",
      "execution_count": null,
      "metadata": {
        "id": "6xqo_nj9bqYH"
      },
      "outputs": [],
      "source": [
        "import matplotlib\n",
        "import matplotlib.pyplot as plt\n",
        "\n",
        "def plot_word_count(df, nameColumn):\n",
        "  count_words = df.withColumn(\"word\", f.explode(nameColumn)) \\\n",
        "              .select(\"word\") \\\n",
        "              .groupBy('word') \\\n",
        "              .agg(f.count('word')\\\n",
        "              .alias('count')).orderBy('count', ascending=False) \\\n",
        "              .limit(20) \\\n",
        "              .toPandas()\n",
        "\n",
        "  plt.figure(figsize=(15,5))     \n",
        "  plt.xticks(rotation=90)       \n",
        "  plt.bar(count_words[\"word\"], count_words[\"count\"])\n",
        "  plt.show()"
      ]
    },
    {
      "cell_type": "code",
      "execution_count": null,
      "metadata": {
        "id": "5o_wyBc7evhT"
      },
      "outputs": [],
      "source": [
        "# plot_word_count(tokenized_clean, \"clean_tokens\")"
      ]
    },
    {
      "cell_type": "code",
      "execution_count": null,
      "metadata": {
        "id": "DrmGrYZamrDw"
      },
      "outputs": [],
      "source": []
    },
    {
      "cell_type": "code",
      "execution_count": null,
      "metadata": {
        "colab": {
          "base_uri": "https://localhost:8080/",
          "height": 374
        },
        "id": "K6nQpZ3RV7Vc",
        "outputId": "047844fa-3a8c-4a2c-f06a-1aad5ebec0fd"
      },
      "outputs": [
        {
          "data": {
            "image/png": "[encoded data removed]",
            "text/plain": [
              "<Figure size 1080x360 with 1 Axes>"
            ]
          },
          "metadata": {},
          "output_type": "display_data"
        }
      ],
      "source": [
        "plot_word_count(tokenized_clean, \"clean_tokens\")"
      ]
    },
    {
      "cell_type": "code",
      "execution_count": null,
      "metadata": {
        "id": "A39ceCDhfVVt"
      },
      "outputs": [],
      "source": [
        "# tokenized_clean.count()"
      ]
    },
    {
      "cell_type": "code",
      "execution_count": null,
      "metadata": {
        "colab": {
          "base_uri": "https://localhost:8080/"
        },
        "id": "qBSPng1Ff6Y5",
        "outputId": "c672973f-57ad-408a-a40d-9c0908efde8b"
      },
      "outputs": [
        {
          "name": "stderr",
          "output_type": "stream",
          "text": [
            "[nltk_data] Downloading package omw-1.4 to /root/nltk_data...\n",
            "[nltk_data]   Package omw-1.4 is already up-to-date!\n",
            "[nltk_data] Downloading package wordnet to /root/nltk_data...\n",
            "[nltk_data]   Package wordnet is already up-to-date!\n",
            "[nltk_data] Downloading package averaged_perceptron_tagger to\n",
            "[nltk_data]     /root/nltk_data...\n",
            "[nltk_data]   Package averaged_perceptron_tagger is already up-to-\n",
            "[nltk_data]       date!\n"
          ]
        }
      ],
      "source": [
        "from nltk.stem import WordNetLemmatizer\n",
        "import nltk\n",
        "nltk.download('omw-1.4')\n",
        "nltk.download('wordnet')\n",
        "nltk.download('averaged_perceptron_tagger')\n",
        "from pyspark.sql.types import ArrayType,StringType"
      ]
    },
    {
      "cell_type": "code",
      "execution_count": null,
      "metadata": {
        "id": "I9772qlYgLyJ"
      },
      "outputs": [],
      "source": [
        "def get_wordnet_pos(treebank_tag):\n",
        "  \"\"\"\n",
        "  return WORDNET POS compliance to WORDENT lemmatization (a,n,r,v) \n",
        "      \"\"\"\n",
        "  if treebank_tag.startswith('J'):\n",
        "          return 'a'\n",
        "  elif treebank_tag.startswith('V'):\n",
        "          return 'v'\n",
        "  elif treebank_tag.startswith('N'):\n",
        "          return 'n'\n",
        "  elif treebank_tag.startswith('R'):\n",
        "          return 'r'\n",
        "  else:\n",
        "  # As default pos in lemmatization is Noun\n",
        "      return 'n'\n",
        "  \n",
        "def lemmer(postags):\n",
        "  lemmatizer = WordNetLemmatizer()\n",
        "  x = [lemmatizer.lemmatize(word, get_wordnet_pos(pos_tag)) for [word,pos_tag] in nltk.pos_tag(postags)]\n",
        "  return x"
      ]
    },
    {
      "cell_type": "code",
      "execution_count": null,
      "metadata": {
        "id": "Kz4iHlrYf7w0"
      },
      "outputs": [],
      "source": [
        "sparkLemmer = f.udf(lambda z: lemmer(z), ArrayType(StringType()))\n",
        "tokenized_clean = tokenized_clean.select('product_id','tokens','clean_tokens',sparkLemmer('clean_tokens').alias('lems'))"
      ]
    },
    {
      "cell_type": "code",
      "execution_count": null,
      "metadata": {
        "id": "ex_7K4_qLcWJ"
      },
      "outputs": [],
      "source": [
        "n=2\n",
        "ngram = NGram(n=n)\n",
        "ngram.setInputCol(\"lems\").setOutputCol(\"nGrams\")\n",
        "tokenized_clean=ngram.transform(tokenized_clean)"
      ]
    },
    {
      "cell_type": "markdown",
      "metadata": {
        "id": "bHV7J7NGrBli"
      },
      "source": [
        "# Groups reviews by producs"
      ]
    },
    {
      "cell_type": "code",
      "execution_count": null,
      "metadata": {
        "id": "eMjBhECIpnau"
      },
      "outputs": [],
      "source": [
        "tokens_by_prod = tokenized_clean.groupBy(\"product_id\").agg(f.flatten(f.collect_list(\"nGrams\")).alias(\"clean_tokens\"))"
      ]
    },
    {
      "cell_type": "code",
      "execution_count": null,
      "metadata": {
        "id": "NjF5JRQcqlCg"
      },
      "outputs": [],
      "source": [
        "# tokens_by_prod.show(5, False)"
      ]
    },
    {
      "cell_type": "markdown",
      "metadata": {
        "id": "9gtE-dl8rFKT"
      },
      "source": [
        "# Representation"
      ]
    },
    {
      "cell_type": "code",
      "execution_count": null,
      "metadata": {
        "id": "tGLiZLDRrG5x"
      },
      "outputs": [],
      "source": [
        "# TF\n",
        "countVec=CountVectorizer(inputCol='clean_tokens', outputCol='features')\n",
        "countVec =countVec.fit(tokens_by_prod)\n",
        "cv_df=countVec.transform(tokens_by_prod)\n",
        "# cv_df.select(['product_id','features']).show(4,80)\n",
        "# cv_df.show()"
      ]
    },
    {
      "cell_type": "code",
      "execution_count": null,
      "metadata": {
        "colab": {
          "background_save": true
        },
        "id": "VRiLZkGVt9dc"
      },
      "outputs": [],
      "source": [
        "# Hashing TF-IDF\n",
        "numFeatures=2**10\n",
        "hashingTF = HashingTF(inputCol=\"clean_tokens\", outputCol=\"rawFeatures\", numFeatures=numFeatures)\n",
        "featurizedData = hashingTF.transform(tokens_by_prod)\n",
        "idf = IDF(inputCol=\"rawFeatures\", outputCol=\"features\")\n",
        "idfModel = idf.fit(featurizedData)\n",
        "idf_features = idfModel.transform(featurizedData)\n",
        "# idf_features.select(\"product_id\", \"features\").show(10, 80)"
      ]
    },
    {
      "cell_type": "code",
      "execution_count": null,
      "metadata": {
        "colab": {
          "background_save": true
        },
        "id": "1wZcuI2tCjjf"
      },
      "outputs": [],
      "source": [
        "# featurizedData.show()"
      ]
    },
    {
      "cell_type": "code",
      "execution_count": null,
      "metadata": {
        "id": "dLLv6fPdwYzL"
      },
      "outputs": [],
      "source": [
        "# Word2Vec\n",
        "word2Vec = Word2Vec(vectorSize=numFeatures, minCount=10, inputCol=\"clean_tokens\", outputCol=\"features\")\n",
        "print(word2Vec.explainParams())\n",
        "word2vec_model = word2Vec.fit(tokens_by_prod)\n",
        "word2vec_features = word2vec_model.transform(tokens_by_prod)\n",
        "# word2vec_features.select(\"product_id\", \"features\").show(10, 80)"
      ]
    },
    {
      "cell_type": "code",
      "execution_count": null,
      "metadata": {
        "id": "ThPdb5v0mUpq"
      },
      "outputs": [],
      "source": [
        "# word2vec_features.count()"
      ]
    },
    {
      "cell_type": "code",
      "execution_count": null,
      "metadata": {
        "id": "hex3xratVrm5"
      },
      "outputs": [],
      "source": [
        "model_word2v_path =  \"/model_word2v\"\n",
        "word2vec_model.write().overwrite().save(model_word2v_path)"
      ]
    },
    {
      "cell_type": "markdown",
      "metadata": {
        "id": "mik3ONyd99vr"
      },
      "source": [
        "# Similitud"
      ]
    },
    {
      "cell_type": "code",
      "execution_count": null,
      "metadata": {
        "id": "Dhc9tmFE0tHE"
      },
      "outputs": [],
      "source": [
        "bucket_length = 10 # Original 10\n",
        "num_hash_tables = 30 # Original 20"
      ]
    },
    {
      "cell_type": "code",
      "execution_count": null,
      "metadata": {
        "id": "OYs7gfH0-Oh4"
      },
      "outputs": [],
      "source": [
        "schema = StructType([ \n",
        "    StructField(\"review_body\",StringType(),True), \n",
        "])\n",
        "queries_list = [\n",
        " ([\"the greatest book of romance\"],),\n",
        " ([\"the greatest book of love\"],),\n",
        " ([\"action interesting book\"],),\n",
        " ([\"gammer book\"],),\n",
        " ([\"horror book\"],),\n",
        " ([\"very terrifying book about vampires\"],),\n",
        " ([\"a to learn about space\"],),\n",
        " ([\"a book about soccer\"],),\n",
        "]\n",
        "queries = spark.createDataFrame(queries_list, schema=schema)"
      ]
    },
    {
      "cell_type": "code",
      "execution_count": null,
      "metadata": {
        "id": "09bm0ykAnPvI"
      },
      "outputs": [],
      "source": [
        "# swremover = StopWordsRemover(inputCol='tokens',outputCol='clean_tokens')\n",
        "queries_clean = queries.withColumn('review_body', (f.lower(f.regexp_replace('review_body', \"[^a-zA-Z\\\\s]\", \"\"))))\n",
        "tokenized_queries_clean=tokenizationML.transform(queries_clean).select([\"tokens\"])\n",
        "tokenized_queries_clean = swremover.transform(tokenized_queries_clean)\n",
        "tokenized_queries_clean = tokenized_queries_clean.select(sparkLemmer('clean_tokens').alias('lems'))\n",
        "tokenized_queries_clean=ngram.transform(tokenized_queries_clean).select('nGrams').withColumnRenamed('nGrams','clean_tokens')\n",
        "# tokenized_queries_clean.show(5)"
      ]
    },
    {
      "cell_type": "code",
      "execution_count": null,
      "metadata": {
        "id": "WeoqszN1-52A"
      },
      "outputs": [],
      "source": [
        "#hashingTF -> idfModel\n",
        "#word2vec_model\n",
        "queries_idf = idfModel.transform(hashingTF.transform(tokenized_queries_clean))\n",
        "queries_w2v = word2vec_model.transform(tokenized_queries_clean)\n",
        "# queries_w2v.show()"
      ]
    },
    {
      "cell_type": "code",
      "execution_count": null,
      "metadata": {
        "id": "Cx3MrUoX-52A"
      },
      "outputs": [],
      "source": [
        "# queries_idf.select(\"features\").collect()[0]['features']"
      ]
    },
    {
      "cell_type": "code",
      "execution_count": null,
      "metadata": {
        "id": "5vQrgQziF-dZ"
      },
      "outputs": [],
      "source": [
        "brp = BucketedRandomProjectionLSH(inputCol=\"features\", outputCol=\"hashes\", bucketLength=bucket_length, numHashTables=num_hash_tables)\n",
        "model_lsh = brp.fit(queries_idf)\n",
        "model_lsh2 = brp.fit(queries_w2v)"
      ]
    },
    {
      "cell_type": "code",
      "execution_count": null,
      "metadata": {
        "id": "hjn-9ZgbrQPy"
      },
      "outputs": [],
      "source": [
        "neighborsidf=[]\n",
        "neighborsw2v=[]\n",
        "solucionidf=[]\n",
        "solucionw2v=[]\n",
        "\n",
        "for i in range(len(queries_list)):\n",
        "  key = queries_idf.select(\"features\").collect()[i]['features']\n",
        "  neighborsidf.append(model_lsh.approxNearestNeighbors(idf_features, key=Vectors.dense(key), numNearestNeighbors=5).cache())\n",
        "  key2 = queries_w2v.select(\"features\").collect()[i]['features']\n",
        "  neighborsw2v.append(model_lsh2.approxNearestNeighbors(word2vec_features, key=Vectors.dense(key2), numNearestNeighbors=5).cache())\n",
        "  # neighborsw2v_df=neighborsw2v[i].withColumn('query',f.lit(queries_list[i]*5))\n",
        "  solucionidf.append([queries_list[i],neighborsidf[i].select('product_id','clean_tokens').cache()])\n",
        "  solucionw2v.append([queries_list[i],neighborsw2v[i].select('product_id','clean_tokens').cache()])"
      ]
    },
    {
      "cell_type": "code",
      "execution_count": null,
      "metadata": {
        "id": "aO9EpSAV11ar"
      },
      "outputs": [],
      "source": [
        "for i in range(len(solucionidf)):\n",
        "  print(solucionidf[i][0],solucionidf[i][1].show(5,False))"
      ]
    },
    {
      "cell_type": "code",
      "execution_count": null,
      "metadata": {
        "id": "AbTIwQNA_WmM"
      },
      "outputs": [],
      "source": [
        "for i in range(len(solucionw2v)):\n",
        "  print(solucionw2v[i][0],solucionw2v[i][1].show(5,False))"
      ]
    },
    {
      "cell_type": "code",
      "execution_count": null,
      "metadata": {
        "id": "ROexfxrl3wSg"
      },
      "outputs": [],
      "source": [
        "df.filter(df.product_id=='B00D64QVZ0').show(1,False)\n"
      ]
    },
    {
      "cell_type": "code",
      "execution_count": null,
      "metadata": {
        "id": "x2jYtUIA2YMS"
      },
      "outputs": [],
      "source": [
        "df.filter(df.product_id=='B008KFXQY4').show(1,False)"
      ]
    },
    {
      "cell_type": "code",
      "execution_count": null,
      "metadata": {
        "id": "jLbW8BW3-sGZ"
      },
      "outputs": [],
      "source": [
        "key = queries_idf.select(\"features\").collect()[2]['features']\n",
        "neighbors = model_lsh.approxNearestNeighbors(idf_features, key=Vectors.dense(key), numNearestNeighbors=5).cache()\n",
        "# neighbors.show(5, False)"
      ]
    },
    {
      "cell_type": "code",
      "execution_count": null,
      "metadata": {
        "id": "wV5vbtosVjN8"
      },
      "outputs": [],
      "source": [
        "model_lsh_path =  \"/model_lsh\"\n",
        "model_lsh.write().overwrite().save(model_lsh_path)"
      ]
    },
    {
      "cell_type": "code",
      "execution_count": null,
      "metadata": {
        "id": "cFkCu8owTASR"
      },
      "outputs": [],
      "source": [
        "key2 = queries_w2v.select(\"features\").collect()[2]['features']\n",
        "neighbors = model_lsh2.approxNearestNeighbors(word2vec_features, key=Vectors.dense(key2), numNearestNeighbors=5).cache()\n",
        "# neighbors.show(5, False)"
      ]
    },
    {
      "cell_type": "code",
      "execution_count": null,
      "metadata": {
        "id": "C73y0ZxfTAOV"
      },
      "outputs": [],
      "source": [
        "model_lsh_path =  \"/model_lsh2\"\n",
        "model_lsh2.write().overwrite().save(model_lsh_path)"
      ]
    },
    {
      "cell_type": "code",
      "execution_count": null,
      "metadata": {
        "id": "yzBhs88Y7BYw"
      },
      "outputs": [],
      "source": []
    },
    {
      "cell_type": "code",
      "execution_count": null,
      "metadata": {
        "id": "StPFg9VmVTzd"
      },
      "outputs": [],
      "source": []
    },
    {
      "cell_type": "code",
      "execution_count": null,
      "metadata": {
        "id": "BsEpkluAVTxG"
      },
      "outputs": [],
      "source": []
    }
  ],
  "metadata": {
    "colab": {
      "provenance": []
    },
    "kernelspec": {
      "display_name": "Python 3",
      "name": "python3"
    },
    "language_info": {
      "name": "python"
    }
  },
  "nbformat": 4,
  "nbformat_minor": 0
}